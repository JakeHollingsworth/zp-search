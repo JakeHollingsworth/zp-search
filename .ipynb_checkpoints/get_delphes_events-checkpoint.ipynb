{
 "cells": [
  {
   "cell_type": "markdown",
   "metadata": {},
   "source": [
    "# Generate Events"
   ]
  },
  {
   "cell_type": "markdown",
   "metadata": {},
   "source": [
    "### Imports"
   ]
  },
  {
   "cell_type": "code",
   "execution_count": 5,
   "metadata": {},
   "outputs": [],
   "source": [
    "from __future__ import absolute_import, division, print_function, unicode_literals\n",
    "\n",
    "import logging\n",
    "import numpy as np\n",
    "import matplotlib\n",
    "from matplotlib import pyplot as plt\n",
    "\n",
    "from madminer.core import MadMiner\n",
    "from madminer.delphes import DelphesReader\n",
    "from madminer.sampling import combine_and_shuffle\n",
    "from madminer.plotting import plot_distributions\n",
    "\n",
    "\n",
    "# MadMiner output\n",
    "logging.basicConfig(\n",
    "    format='%(asctime)-5.5s %(name)-20.20s %(levelname)-7.7s %(message)s',\n",
    "    datefmt='%H:%M',\n",
    "    level=logging.INFO\n",
    ")\n",
    "\n",
    "# Output of all other modules (e.g. matplotlib)\n",
    "for key in logging.Logger.manager.loggerDict:\n",
    "    if \"madminer\" not in key:\n",
    "        logging.getLogger(key).setLevel(logging.WARNING)"
   ]
  },
  {
   "cell_type": "markdown",
   "metadata": {},
   "source": [
    "## Madgraph"
   ]
  },
  {
   "cell_type": "markdown",
   "metadata": {},
   "source": [
    "### Signal"
   ]
  },
  {
   "cell_type": "markdown",
   "metadata": {},
   "source": [
    "We use Madgraph to generate events at all benchmark points.\n",
    "\n",
    "Due to the large number of benchmark points, the file sizes get pretty ridiculous. For ~120 benchmark points, you will need roughly 120 GB of space in the mg_process_directory. \n",
    "\n",
    "This cell will take roughly 1-2 days to complete."
   ]
  },
  {
   "cell_type": "code",
   "execution_count": null,
   "metadata": {},
   "outputs": [
    {
     "name": "stderr",
     "output_type": "stream",
     "text": [
      "17:39 madminer.core        INFO    Found 2 parameters:\n",
      "17:39 madminer.core        INFO       mzp (LHA: mass 56, maximal power in squared ME: (0,), range: (275.0, 325.0))\n",
      "17:39 madminer.core        INFO       gzp (LHA: dminputs 2, maximal power in squared ME: (0,), range: (0.0, 5.0))\n",
      "17:39 madminer.core        INFO    Found 121 benchmarks:\n",
      "17:39 madminer.core        INFO       benchmark_0: mzp = 2.75e+02, gzp = 0.00e+00\n",
      "17:39 madminer.core        INFO       benchmark_1: mzp = 2.75e+02, gzp = 0.50\n",
      "17:39 madminer.core        INFO       benchmark_2: mzp = 2.75e+02, gzp = 1.00\n",
      "17:39 madminer.core        INFO       benchmark_3: mzp = 2.75e+02, gzp = 1.50\n",
      "17:39 madminer.core        INFO       benchmark_4: mzp = 2.75e+02, gzp = 2.00\n",
      "17:39 madminer.core        INFO       benchmark_5: mzp = 2.75e+02, gzp = 2.50\n",
      "17:39 madminer.core        INFO       benchmark_6: mzp = 2.75e+02, gzp = 3.00\n",
      "17:39 madminer.core        INFO       benchmark_7: mzp = 2.75e+02, gzp = 3.50\n",
      "17:39 madminer.core        INFO       benchmark_8: mzp = 2.75e+02, gzp = 4.00\n",
      "17:39 madminer.core        INFO       benchmark_9: mzp = 2.75e+02, gzp = 4.50\n",
      "17:39 madminer.core        INFO       benchmark_10: mzp = 2.75e+02, gzp = 5.00\n",
      "17:39 madminer.core        INFO       benchmark_11: mzp = 2.80e+02, gzp = 0.00e+00\n",
      "17:39 madminer.core        INFO       benchmark_12: mzp = 2.80e+02, gzp = 0.50\n",
      "17:39 madminer.core        INFO       benchmark_13: mzp = 2.80e+02, gzp = 1.00\n",
      "17:39 madminer.core        INFO       benchmark_14: mzp = 2.80e+02, gzp = 1.50\n",
      "17:39 madminer.core        INFO       benchmark_15: mzp = 2.80e+02, gzp = 2.00\n",
      "17:39 madminer.core        INFO       benchmark_16: mzp = 2.80e+02, gzp = 2.50\n",
      "17:39 madminer.core        INFO       benchmark_17: mzp = 2.80e+02, gzp = 3.00\n",
      "17:39 madminer.core        INFO       benchmark_18: mzp = 2.80e+02, gzp = 3.50\n",
      "17:39 madminer.core        INFO       benchmark_19: mzp = 2.80e+02, gzp = 4.00\n",
      "17:39 madminer.core        INFO       benchmark_20: mzp = 2.80e+02, gzp = 4.50\n",
      "17:39 madminer.core        INFO       benchmark_21: mzp = 2.80e+02, gzp = 5.00\n",
      "17:39 madminer.core        INFO       benchmark_22: mzp = 2.85e+02, gzp = 0.00e+00\n",
      "17:39 madminer.core        INFO       benchmark_23: mzp = 2.85e+02, gzp = 0.50\n",
      "17:39 madminer.core        INFO       benchmark_24: mzp = 2.85e+02, gzp = 1.00\n",
      "17:39 madminer.core        INFO       benchmark_25: mzp = 2.85e+02, gzp = 1.50\n",
      "17:39 madminer.core        INFO       benchmark_26: mzp = 2.85e+02, gzp = 2.00\n",
      "17:39 madminer.core        INFO       benchmark_27: mzp = 2.85e+02, gzp = 2.50\n",
      "17:39 madminer.core        INFO       benchmark_28: mzp = 2.85e+02, gzp = 3.00\n",
      "17:39 madminer.core        INFO       benchmark_29: mzp = 2.85e+02, gzp = 3.50\n",
      "17:39 madminer.core        INFO       benchmark_30: mzp = 2.85e+02, gzp = 4.00\n",
      "17:39 madminer.core        INFO       benchmark_31: mzp = 2.85e+02, gzp = 4.50\n",
      "17:39 madminer.core        INFO       benchmark_32: mzp = 2.85e+02, gzp = 5.00\n",
      "17:39 madminer.core        INFO       benchmark_33: mzp = 2.90e+02, gzp = 0.00e+00\n",
      "17:39 madminer.core        INFO       benchmark_34: mzp = 2.90e+02, gzp = 0.50\n",
      "17:39 madminer.core        INFO       benchmark_35: mzp = 2.90e+02, gzp = 1.00\n",
      "17:39 madminer.core        INFO       benchmark_36: mzp = 2.90e+02, gzp = 1.50\n",
      "17:39 madminer.core        INFO       benchmark_37: mzp = 2.90e+02, gzp = 2.00\n",
      "17:39 madminer.core        INFO       benchmark_38: mzp = 2.90e+02, gzp = 2.50\n",
      "17:39 madminer.core        INFO       benchmark_39: mzp = 2.90e+02, gzp = 3.00\n",
      "17:39 madminer.core        INFO       benchmark_40: mzp = 2.90e+02, gzp = 3.50\n",
      "17:39 madminer.core        INFO       benchmark_41: mzp = 2.90e+02, gzp = 4.00\n",
      "17:39 madminer.core        INFO       benchmark_42: mzp = 2.90e+02, gzp = 4.50\n",
      "17:39 madminer.core        INFO       benchmark_43: mzp = 2.90e+02, gzp = 5.00\n",
      "17:39 madminer.core        INFO       benchmark_44: mzp = 2.95e+02, gzp = 0.00e+00\n",
      "17:39 madminer.core        INFO       benchmark_45: mzp = 2.95e+02, gzp = 0.50\n",
      "17:39 madminer.core        INFO       benchmark_46: mzp = 2.95e+02, gzp = 1.00\n",
      "17:39 madminer.core        INFO       benchmark_47: mzp = 2.95e+02, gzp = 1.50\n",
      "17:39 madminer.core        INFO       benchmark_48: mzp = 2.95e+02, gzp = 2.00\n",
      "17:39 madminer.core        INFO       benchmark_49: mzp = 2.95e+02, gzp = 2.50\n",
      "17:39 madminer.core        INFO       benchmark_50: mzp = 2.95e+02, gzp = 3.00\n",
      "17:39 madminer.core        INFO       benchmark_51: mzp = 2.95e+02, gzp = 3.50\n",
      "17:39 madminer.core        INFO       benchmark_52: mzp = 2.95e+02, gzp = 4.00\n",
      "17:39 madminer.core        INFO       benchmark_53: mzp = 2.95e+02, gzp = 4.50\n",
      "17:39 madminer.core        INFO       benchmark_54: mzp = 2.95e+02, gzp = 5.00\n",
      "17:39 madminer.core        INFO       benchmark_55: mzp = 3.00e+02, gzp = 0.00e+00\n",
      "17:39 madminer.core        INFO       benchmark_56: mzp = 3.00e+02, gzp = 0.50\n",
      "17:39 madminer.core        INFO       benchmark_57: mzp = 3.00e+02, gzp = 1.00\n",
      "17:39 madminer.core        INFO       benchmark_58: mzp = 3.00e+02, gzp = 1.50\n",
      "17:39 madminer.core        INFO       benchmark_59: mzp = 3.00e+02, gzp = 2.00\n",
      "17:39 madminer.core        INFO       benchmark_60: mzp = 3.00e+02, gzp = 2.50\n",
      "17:39 madminer.core        INFO       benchmark_61: mzp = 3.00e+02, gzp = 3.00\n",
      "17:39 madminer.core        INFO       benchmark_62: mzp = 3.00e+02, gzp = 3.50\n",
      "17:39 madminer.core        INFO       benchmark_63: mzp = 3.00e+02, gzp = 4.00\n",
      "17:39 madminer.core        INFO       benchmark_64: mzp = 3.00e+02, gzp = 4.50\n",
      "17:39 madminer.core        INFO       benchmark_65: mzp = 3.00e+02, gzp = 5.00\n",
      "17:39 madminer.core        INFO       benchmark_66: mzp = 3.05e+02, gzp = 0.00e+00\n",
      "17:39 madminer.core        INFO       benchmark_67: mzp = 3.05e+02, gzp = 0.50\n",
      "17:39 madminer.core        INFO       benchmark_68: mzp = 3.05e+02, gzp = 1.00\n",
      "17:39 madminer.core        INFO       benchmark_69: mzp = 3.05e+02, gzp = 1.50\n",
      "17:39 madminer.core        INFO       benchmark_70: mzp = 3.05e+02, gzp = 2.00\n",
      "17:39 madminer.core        INFO       benchmark_71: mzp = 3.05e+02, gzp = 2.50\n",
      "17:39 madminer.core        INFO       benchmark_72: mzp = 3.05e+02, gzp = 3.00\n",
      "17:39 madminer.core        INFO       benchmark_73: mzp = 3.05e+02, gzp = 3.50\n",
      "17:39 madminer.core        INFO       benchmark_74: mzp = 3.05e+02, gzp = 4.00\n",
      "17:39 madminer.core        INFO       benchmark_75: mzp = 3.05e+02, gzp = 4.50\n",
      "17:39 madminer.core        INFO       benchmark_76: mzp = 3.05e+02, gzp = 5.00\n",
      "17:39 madminer.core        INFO       benchmark_77: mzp = 3.10e+02, gzp = 0.00e+00\n",
      "17:39 madminer.core        INFO       benchmark_78: mzp = 3.10e+02, gzp = 0.50\n",
      "17:39 madminer.core        INFO       benchmark_79: mzp = 3.10e+02, gzp = 1.00\n",
      "17:39 madminer.core        INFO       benchmark_80: mzp = 3.10e+02, gzp = 1.50\n",
      "17:39 madminer.core        INFO       benchmark_81: mzp = 3.10e+02, gzp = 2.00\n",
      "17:39 madminer.core        INFO       benchmark_82: mzp = 3.10e+02, gzp = 2.50\n",
      "17:39 madminer.core        INFO       benchmark_83: mzp = 3.10e+02, gzp = 3.00\n",
      "17:39 madminer.core        INFO       benchmark_84: mzp = 3.10e+02, gzp = 3.50\n",
      "17:39 madminer.core        INFO       benchmark_85: mzp = 3.10e+02, gzp = 4.00\n",
      "17:39 madminer.core        INFO       benchmark_86: mzp = 3.10e+02, gzp = 4.50\n",
      "17:39 madminer.core        INFO       benchmark_87: mzp = 3.10e+02, gzp = 5.00\n",
      "17:39 madminer.core        INFO       benchmark_88: mzp = 3.15e+02, gzp = 0.00e+00\n",
      "17:39 madminer.core        INFO       benchmark_89: mzp = 3.15e+02, gzp = 0.50\n",
      "17:39 madminer.core        INFO       benchmark_90: mzp = 3.15e+02, gzp = 1.00\n",
      "17:39 madminer.core        INFO       benchmark_91: mzp = 3.15e+02, gzp = 1.50\n",
      "17:39 madminer.core        INFO       benchmark_92: mzp = 3.15e+02, gzp = 2.00\n",
      "17:39 madminer.core        INFO       benchmark_93: mzp = 3.15e+02, gzp = 2.50\n",
      "17:39 madminer.core        INFO       benchmark_94: mzp = 3.15e+02, gzp = 3.00\n",
      "17:39 madminer.core        INFO       benchmark_95: mzp = 3.15e+02, gzp = 3.50\n",
      "17:39 madminer.core        INFO       benchmark_96: mzp = 3.15e+02, gzp = 4.00\n",
      "17:39 madminer.core        INFO       benchmark_97: mzp = 3.15e+02, gzp = 4.50\n",
      "17:39 madminer.core        INFO       benchmark_98: mzp = 3.15e+02, gzp = 5.00\n",
      "17:39 madminer.core        INFO       benchmark_99: mzp = 3.20e+02, gzp = 0.00e+00\n"
     ]
    },
    {
     "name": "stderr",
     "output_type": "stream",
     "text": [
      "17:39 madminer.core        INFO       benchmark_100: mzp = 3.20e+02, gzp = 0.50\n",
      "17:39 madminer.core        INFO       benchmark_101: mzp = 3.20e+02, gzp = 1.00\n",
      "17:39 madminer.core        INFO       benchmark_102: mzp = 3.20e+02, gzp = 1.50\n",
      "17:39 madminer.core        INFO       benchmark_103: mzp = 3.20e+02, gzp = 2.00\n",
      "17:39 madminer.core        INFO       benchmark_104: mzp = 3.20e+02, gzp = 2.50\n",
      "17:39 madminer.core        INFO       benchmark_105: mzp = 3.20e+02, gzp = 3.00\n",
      "17:39 madminer.core        INFO       benchmark_106: mzp = 3.20e+02, gzp = 3.50\n",
      "17:39 madminer.core        INFO       benchmark_107: mzp = 3.20e+02, gzp = 4.00\n",
      "17:39 madminer.core        INFO       benchmark_108: mzp = 3.20e+02, gzp = 4.50\n",
      "17:39 madminer.core        INFO       benchmark_109: mzp = 3.20e+02, gzp = 5.00\n",
      "17:39 madminer.core        INFO       benchmark_110: mzp = 3.25e+02, gzp = 0.00e+00\n",
      "17:39 madminer.core        INFO       benchmark_111: mzp = 3.25e+02, gzp = 0.50\n",
      "17:39 madminer.core        INFO       benchmark_112: mzp = 3.25e+02, gzp = 1.00\n",
      "17:39 madminer.core        INFO       benchmark_113: mzp = 3.25e+02, gzp = 1.50\n",
      "17:39 madminer.core        INFO       benchmark_114: mzp = 3.25e+02, gzp = 2.00\n",
      "17:39 madminer.core        INFO       benchmark_115: mzp = 3.25e+02, gzp = 2.50\n",
      "17:39 madminer.core        INFO       benchmark_116: mzp = 3.25e+02, gzp = 3.00\n",
      "17:39 madminer.core        INFO       benchmark_117: mzp = 3.25e+02, gzp = 3.50\n",
      "17:39 madminer.core        INFO       benchmark_118: mzp = 3.25e+02, gzp = 4.00\n",
      "17:39 madminer.core        INFO       benchmark_119: mzp = 3.25e+02, gzp = 4.50\n",
      "17:39 madminer.core        INFO       benchmark_120: mzp = 3.25e+02, gzp = 5.00\n",
      "17:39 madminer.core        INFO    Did not find morphing setup.\n",
      "17:39 madminer.core        INFO    Did not find systematics setup.\n",
      "17:39 madminer.utils.inter INFO    Generating MadGraph process folder from cards/proc_card_signal.dat at /udd/madminer_events_uuuu/signal_pythia\n",
      "17:39 madminer.core        INFO    Run 0\n",
      "17:39 madminer.core        INFO      Sampling from benchmark: benchmark_0\n",
      "17:39 madminer.core        INFO      Original run card:       cards/run_card_signal.dat\n",
      "17:39 madminer.core        INFO      Original Pythia8 card:   cards/pythia8_card.dat\n",
      "17:39 madminer.core        INFO      Copied run card:         /madminer/cards/run_card_0.dat\n",
      "17:39 madminer.core        INFO      Copied Pythia8 card:     /madminer/cards/pythia8_card_0.dat\n",
      "17:39 madminer.core        INFO      Param card:              /madminer/cards/param_card_0.dat\n",
      "17:39 madminer.core        INFO      Reweight card:           /madminer/cards/reweight_card_0.dat\n",
      "17:39 madminer.core        INFO      Log file:                run_0.log\n",
      "17:39 madminer.core        INFO    Creating param and reweight cards in /udd/madminer_events_uuuu/signal_pythia//madminer/cards/param_card_0.dat, /udd/madminer_events_uuuu/signal_pythia//madminer/cards/reweight_card_0.dat\n",
      "17:39 madminer.utils.inter INFO    Starting MadGraph and Pythia in /udd/madminer_events_uuuu/signal_pythia\n",
      "17:40 madminer.core        INFO    Run 1\n",
      "17:40 madminer.core        INFO      Sampling from benchmark: benchmark_1\n",
      "17:40 madminer.core        INFO      Original run card:       cards/run_card_signal.dat\n",
      "17:40 madminer.core        INFO      Original Pythia8 card:   cards/pythia8_card.dat\n",
      "17:40 madminer.core        INFO      Copied run card:         /madminer/cards/run_card_1.dat\n",
      "17:40 madminer.core        INFO      Copied Pythia8 card:     /madminer/cards/pythia8_card_1.dat\n",
      "17:40 madminer.core        INFO      Param card:              /madminer/cards/param_card_1.dat\n",
      "17:40 madminer.core        INFO      Reweight card:           /madminer/cards/reweight_card_1.dat\n",
      "17:40 madminer.core        INFO      Log file:                run_1.log\n",
      "17:40 madminer.core        INFO    Creating param and reweight cards in /udd/madminer_events_uuuu/signal_pythia//madminer/cards/param_card_1.dat, /udd/madminer_events_uuuu/signal_pythia//madminer/cards/reweight_card_1.dat\n",
      "17:40 madminer.utils.inter INFO    Starting MadGraph and Pythia in /udd/madminer_events_uuuu/signal_pythia\n",
      "17:54 madminer.core        INFO    Run 2\n",
      "17:54 madminer.core        INFO      Sampling from benchmark: benchmark_2\n",
      "17:54 madminer.core        INFO      Original run card:       cards/run_card_signal.dat\n",
      "17:54 madminer.core        INFO      Original Pythia8 card:   cards/pythia8_card.dat\n",
      "17:54 madminer.core        INFO      Copied run card:         /madminer/cards/run_card_2.dat\n",
      "17:54 madminer.core        INFO      Copied Pythia8 card:     /madminer/cards/pythia8_card_2.dat\n",
      "17:54 madminer.core        INFO      Param card:              /madminer/cards/param_card_2.dat\n",
      "17:54 madminer.core        INFO      Reweight card:           /madminer/cards/reweight_card_2.dat\n",
      "17:54 madminer.core        INFO      Log file:                run_2.log\n",
      "17:54 madminer.core        INFO    Creating param and reweight cards in /udd/madminer_events_uuuu/signal_pythia//madminer/cards/param_card_2.dat, /udd/madminer_events_uuuu/signal_pythia//madminer/cards/reweight_card_2.dat\n",
      "17:54 madminer.utils.inter INFO    Starting MadGraph and Pythia in /udd/madminer_events_uuuu/signal_pythia\n"
     ]
    }
   ],
   "source": [
    "# Be sure to change these to the directory of the Madgraph installation.\n",
    "###########################################################################################\n",
    "mg_dir = '/home/kwl/Documents/hep/MG5_aMC_v2_6_5'    # Points to Madgraph Install     \n",
    "events_dir = '/udd/madminer_events_uuuu/'            # Points to directory to save events \n",
    "                                                     # (where the run_XX folders are saved)\n",
    "###########################################################################################\n",
    "miner = MadMiner()\n",
    "miner.load(\"meta/setup.h5\")\n",
    "\n",
    "miner.run_multiple(\n",
    "    sample_benchmarks=None,\n",
    "    mg_directory=mg_dir,\n",
    "    mg_process_directory=events_dir+'signal_pythia',\n",
    "    proc_card_file='cards/proc_card_signal.dat',\n",
    "    param_card_template_file='cards/param_card.dat',\n",
    "    pythia8_card_file='cards/pythia8_card.dat',\n",
    "    run_card_files=['cards/run_card_signal.dat'],\n",
    "    log_directory='logs/signal'\n",
    ")"
   ]
  },
  {
   "cell_type": "markdown",
   "metadata": {},
   "source": [
    "### Background"
   ]
  },
  {
   "cell_type": "code",
   "execution_count": 2,
   "metadata": {},
   "outputs": [
    {
     "data": {
      "text/plain": [
       "u\"\\nminer.run(\\n    is_background=True,\\n    sample_benchmark='benchmark_0',\\n    mg_directory=mg_dir,\\n    mg_process_directory='/udd/mg_processes/background_pythia',\\n    proc_card_file='cards/proc_card_background.dat',\\n    pythia8_card_file='cards/pythia8_card.dat',\\n    param_card_template_file='cards/param_card_template.dat',\\n    run_card_file='cards/run_card_background.dat',\\n    log_directory='logs/background',\\n)\\n\""
      ]
     },
     "execution_count": 2,
     "metadata": {},
     "output_type": "execute_result"
    }
   ],
   "source": [
    "miner.run(\n",
    "    is_background=True,\n",
    "    sample_benchmark='benchmark_0',\n",
    "    mg_directory=mg_dir,\n",
    "    mg_process_directory=events_dir + 'background_pythia',\n",
    "    proc_card_file='cards/proc_card_background.dat',\n",
    "    pythia8_card_file='cards/pythia8_card.dat',\n",
    "    param_card_template_file='cards/param_card.dat',\n",
    "    run_card_file='cards/run_card_background.dat',\n",
    "    log_directory='logs/background',\n",
    ")"
   ]
  },
  {
   "cell_type": "markdown",
   "metadata": {},
   "source": [
    "## Delphes"
   ]
  },
  {
   "cell_type": "markdown",
   "metadata": {},
   "source": [
    "### Stage events"
   ]
  },
  {
   "cell_type": "code",
   "execution_count": null,
   "metadata": {},
   "outputs": [],
   "source": [
    "delphes = DelphesReader('meta/setup.h5')\n",
    "for i in range(len(miner.benchmarks.keys())):\n",
    "    run_name=str(i+1)\n",
    "    if i < 9:\n",
    "        run_name = '0' + str(i+1)\n",
    "    delphes.add_sample(\n",
    "        lhe_filename=events_dir + 'pythia_signal/run_' + run_name + '/unweighted_events.lhe.gz',\n",
    "        hepmc_filename=events_dir + 'pythia_signal/run_' + run_name + '/tag_1_pythia8_events.hepmc.gz',\n",
    "        sampled_from_benchmark=miner.benchmarks.keys()[i],\n",
    "        is_background=False\n",
    "    )\n",
    "\n",
    "delphes.add_sample(\n",
    "    lhe_filename=events_dir + 'pythia_background/run_01/unweighted_events.lhe.gz',\n",
    "    hepmc_filename=events_dir + 'pythia_background/run_01/tag_1_pythia8_events.hepmc.gz',\n",
    "    sampled_from_benchmark='benchmark_0',\n",
    "    is_background=True\n",
    ")"
   ]
  },
  {
   "cell_type": "markdown",
   "metadata": {},
   "source": [
    "### Run Detector"
   ]
  },
  {
   "cell_type": "code",
   "execution_count": null,
   "metadata": {},
   "outputs": [],
   "source": [
    "delphes.run_delphes(\n",
    "    delphes_directory=mg_dir + '/Delphes',\n",
    "    delphes_card='cards/delphes_card.dat',\n",
    "    log_file='logs/delphes.log',\n",
    ")"
   ]
  },
  {
   "cell_type": "markdown",
   "metadata": {},
   "source": [
    "### Save detector level data"
   ]
  },
  {
   "cell_type": "markdown",
   "metadata": {},
   "source": [
    "We have 8 features, which are the 2 leading jet four-momenta:\n",
    "\n",
    "leading jet: $[\\eta_0, \\phi_0, p_{t,0}, m_0]$\n",
    "\n",
    "subleading jet: $[\\eta_1, \\phi_1, p_{t,1}, m_1]$\n",
    "\n",
    "We cut the invariant mass so that $m_{jj}=\\sqrt{2 |p_{t,0}| |p_{t,1}| \\left(\\cosh(\\eta_0 - \\eta_1) - \\cos(\\phi_0 - \\phi_1)\\right)}\\in[200, 400]~$GeV"
   ]
  },
  {
   "cell_type": "code",
   "execution_count": null,
   "metadata": {},
   "outputs": [],
   "source": [
    "#### Observables #####\n",
    "\n",
    "delphes.add_observable(\n",
    "    'eta0',\n",
    "    'j[0].eta',\n",
    "    required=True\n",
    ")\n",
    "delphes.add_observable(\n",
    "    'phi0',\n",
    "    'j[0].phi()',\n",
    "    required=True,\n",
    ")\n",
    "delphes.add_observable(\n",
    "    'pt0',\n",
    "    'j[0].pt',\n",
    "    required=True,\n",
    ")\n",
    "delphes.add_observable(\n",
    "    'm0',\n",
    "    'j[0].m',\n",
    "    required=True,\n",
    ")\n",
    "delphes.add_observable(\n",
    "    'eta1',\n",
    "    'j[1].eta',\n",
    "    required=True,\n",
    ")\n",
    "delphes.add_observable(\n",
    "    'phi1',\n",
    "    'j[1].phi()',\n",
    "    required=True,\n",
    ")\n",
    "delphes.add_observable(\n",
    "    'pt1',\n",
    "    'j[1].pt',\n",
    "    required=True,\n",
    ")\n",
    "delphes.add_observable(\n",
    "    'm1',\n",
    "    'j[1].m',\n",
    "    required=True,\n",
    ")\n",
    "\n",
    "#### Cuts ####\n",
    "\n",
    "delphes.add_cut('np.sqrt(2 * np.abs(j[0].pt) * np.abs(j[1].pt) * (np.cosh(j[0].eta-j[1].eta)-np.cos(j[0].phi()-j[1].phi()))) > 200')\n",
    "delphes.add_cut('np.sqrt(2 * np.abs(j[0].pt) * np.abs(j[1].pt) * (np.cosh(j[0].eta-j[1].eta)-np.cos(j[0].phi()-j[1].phi()))) < 400')\n",
    "\n",
    "#### Process & Export ####\n",
    "\n",
    "delphes.analyse_delphes_samples()\n",
    "delphes.save('meta/delphes_data.h5')\n",
    "combine_and_shuffle(\n",
    "    ['data/delphes_data.h5'],\n",
    "    'data/delphes_data_shuffled.h5'\n",
    ")"
   ]
  }
 ],
 "metadata": {
  "kernelspec": {
   "display_name": "tfenv",
   "language": "python",
   "name": "tfenv"
  },
  "language_info": {
   "codemirror_mode": {
    "name": "ipython",
    "version": 2
   },
   "file_extension": ".py",
   "mimetype": "text/x-python",
   "name": "python",
   "nbconvert_exporter": "python",
   "pygments_lexer": "ipython2",
   "version": "2.7.15rc1"
  }
 },
 "nbformat": 4,
 "nbformat_minor": 2
}
