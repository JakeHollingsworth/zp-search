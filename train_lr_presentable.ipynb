{
 "cells": [
  {
   "cell_type": "markdown",
   "metadata": {},
   "source": [
    "# Train Likelihood Estimator"
   ]
  },
  {
   "cell_type": "markdown",
   "metadata": {},
   "source": [
    "We train the ALICE likelihood ratio estimator on data with varying dimensions in its input. "
   ]
  },
  {
   "cell_type": "code",
   "execution_count": 1,
   "metadata": {},
   "outputs": [
    {
     "name": "stderr",
     "output_type": "stream",
     "text": [
      "17:56 madminer             INFO    \n",
      "17:56 madminer             INFO    ------------------------------------------------------------------------\n",
      "17:56 madminer             INFO    |                                                                      |\n",
      "17:56 madminer             INFO    |  MadMiner v0.4.9                                                     |\n",
      "17:56 madminer             INFO    |                                                                      |\n",
      "17:56 madminer             INFO    |         Johann Brehmer, Felix Kling, Irina Espejo, and Kyle Cranmer  |\n",
      "17:56 madminer             INFO    |                                                                      |\n",
      "17:56 madminer             INFO    ------------------------------------------------------------------------\n",
      "17:56 madminer             INFO    \n"
     ]
    }
   ],
   "source": [
    "import numpy as np\n",
    "import logging\n",
    "import matplotlib\n",
    "from matplotlib import pyplot as plt\n",
    "from pylab import legend\n",
    "%matplotlib inline\n",
    "\n",
    "logging.basicConfig(\n",
    "    format='%(asctime)-5.5s %(name)-20.20s %(levelname)-7.7s %(message)s',\n",
    "    datefmt='%H:%M',\n",
    "    level=logging.INFO\n",
    ")\n",
    "for key in logging.Logger.manager.loggerDict:\n",
    "    if \"madminer\" not in key:\n",
    "        logging.getLogger(key).setLevel(logging.WARNING)\n",
    "        \n",
    "from madminer import sampling\n",
    "from madminer.sampling import SampleAugmenter\n",
    "from madminer.ml import ParameterizedRatioEstimator\n",
    "from madminer.core import MadMiner\n",
    "from scipy.stats import poisson\n",
    "from madminer.delphes import DelphesReader\n",
    "from madminer.sampling import combine_and_shuffle\n",
    "\n",
    "def calculate_invariant_mass(all_x):\n",
    "    \"\"\"Calculates invariant mass given jet four-momenta.\"\"\"\n",
    "    eta0 = all_x[:,0]\n",
    "    phi0 = all_x[:,1]\n",
    "    pt0  = all_x[:,2]\n",
    "    m0   = all_x[:,3]\n",
    "    eta1 = all_x[:,4]\n",
    "    phi1 = all_x[:,5]\n",
    "    pt1  = all_x[:,6]\n",
    "    m1   = all_x[:,7]\n",
    "    return  np.sqrt(2 * np.abs(pt0) * np.abs(pt1) * (np.cosh(eta0 - eta1) - np.cos(phi0-phi1)))\n",
    "\n",
    "def twod_data(all_x):\n",
    "    \"\"\"Calculates an array containing the invariant mass and y_jj given jet four-momenta.\"\"\"\n",
    "    invm = calculate_invariant_mass(all_x)\n",
    "    eta0 = all_x[:,0]\n",
    "    phi0 = all_x[:,1]\n",
    "    pt0  = all_x[:,2]\n",
    "    m0   = all_x[:,3]\n",
    "    eta1 = all_x[:,4]\n",
    "    phi1 = all_x[:,5]\n",
    "    pt1  = all_x[:,6]\n",
    "    m1   = all_x[:,7]\n",
    "    delta_yjj = eta0 - eta1\n",
    "    return np.concatenate([invm[:,None], delta_yjj[:,None]], axis=1)\n",
    "\n",
    "def run_pseudoexperiments(log_likelihood_ratio, x_length, y_length, N, num_experiments):\n",
    "    \"\"\"Calculates expected p-values for subset of test set containing N events using num_experiments trials.\"\"\"\n",
    "    asimov_log_likelihood_ratio = np.mean(log_likelihood_ratio, axis=1)\n",
    "    asimov_log_likelihood_ratio_mle = np.amax(asimov_log_likelihood_ratio)\n",
    "    return np.exp(N * (asimov_log_likelihood_ratio - asimov_log_likelihood_ratio_mle)).reshape((x_length, y_length))"
   ]
  },
  {
   "cell_type": "markdown",
   "metadata": {},
   "source": [
    "Load in training data and validation data of (unweighted) dijet events."
   ]
  },
  {
   "cell_type": "code",
   "execution_count": 2,
   "metadata": {},
   "outputs": [
    {
     "name": "stderr",
     "output_type": "stream",
     "text": [
      "17:56 madminer.analysis    INFO    Loading data from meta/delphes_data_shuffled_g02.h5\n",
      "17:56 madminer.analysis    INFO    Found 2 parameters\n",
      "17:56 madminer.analysis    INFO    Did not find nuisance parameters\n",
      "17:56 madminer.analysis    INFO    Found 121 benchmarks, of which 121 physical\n",
      "17:56 madminer.analysis    INFO    Found 8 observables\n",
      "17:56 madminer.analysis    INFO    Found 649198 events\n",
      "17:56 madminer.analysis    INFO      4123 signal events sampled from benchmark benchmark_1\n",
      "17:56 madminer.analysis    INFO      4132 signal events sampled from benchmark benchmark_2\n",
      "17:56 madminer.analysis    INFO      4454 signal events sampled from benchmark benchmark_3\n",
      "17:56 madminer.analysis    INFO      4797 signal events sampled from benchmark benchmark_4\n",
      "17:56 madminer.analysis    INFO      5488 signal events sampled from benchmark benchmark_5\n",
      "17:56 madminer.analysis    INFO      6245 signal events sampled from benchmark benchmark_6\n",
      "17:56 madminer.analysis    INFO      6973 signal events sampled from benchmark benchmark_7\n",
      "17:56 madminer.analysis    INFO      7543 signal events sampled from benchmark benchmark_8\n",
      "17:56 madminer.analysis    INFO      7849 signal events sampled from benchmark benchmark_9\n",
      "17:56 madminer.analysis    INFO      8225 signal events sampled from benchmark benchmark_10\n",
      "17:56 madminer.analysis    INFO      4083 signal events sampled from benchmark benchmark_12\n",
      "17:56 madminer.analysis    INFO      4108 signal events sampled from benchmark benchmark_13\n",
      "17:56 madminer.analysis    INFO      4354 signal events sampled from benchmark benchmark_14\n",
      "17:56 madminer.analysis    INFO      4732 signal events sampled from benchmark benchmark_15\n",
      "17:56 madminer.analysis    INFO      5341 signal events sampled from benchmark benchmark_16\n",
      "17:56 madminer.analysis    INFO      6134 signal events sampled from benchmark benchmark_17\n",
      "17:56 madminer.analysis    INFO      6983 signal events sampled from benchmark benchmark_18\n",
      "17:56 madminer.analysis    INFO      7517 signal events sampled from benchmark benchmark_19\n",
      "17:56 madminer.analysis    INFO      7901 signal events sampled from benchmark benchmark_20\n",
      "17:56 madminer.analysis    INFO      8157 signal events sampled from benchmark benchmark_21\n",
      "17:56 madminer.analysis    INFO      4124 signal events sampled from benchmark benchmark_23\n",
      "17:56 madminer.analysis    INFO      4132 signal events sampled from benchmark benchmark_24\n",
      "17:56 madminer.analysis    INFO      4329 signal events sampled from benchmark benchmark_25\n",
      "17:56 madminer.analysis    INFO      4717 signal events sampled from benchmark benchmark_26\n",
      "17:56 madminer.analysis    INFO      5431 signal events sampled from benchmark benchmark_27\n",
      "17:56 madminer.analysis    INFO      6152 signal events sampled from benchmark benchmark_28\n",
      "17:56 madminer.analysis    INFO      6829 signal events sampled from benchmark benchmark_29\n",
      "17:56 madminer.analysis    INFO      7481 signal events sampled from benchmark benchmark_30\n",
      "17:56 madminer.analysis    INFO      7867 signal events sampled from benchmark benchmark_31\n",
      "17:56 madminer.analysis    INFO      8213 signal events sampled from benchmark benchmark_32\n",
      "17:56 madminer.analysis    INFO      4143 signal events sampled from benchmark benchmark_34\n",
      "17:56 madminer.analysis    INFO      4196 signal events sampled from benchmark benchmark_35\n",
      "17:56 madminer.analysis    INFO      4313 signal events sampled from benchmark benchmark_36\n",
      "17:56 madminer.analysis    INFO      4738 signal events sampled from benchmark benchmark_37\n",
      "17:56 madminer.analysis    INFO      5404 signal events sampled from benchmark benchmark_38\n",
      "17:56 madminer.analysis    INFO      6166 signal events sampled from benchmark benchmark_39\n",
      "17:56 madminer.analysis    INFO      6846 signal events sampled from benchmark benchmark_40\n",
      "17:56 madminer.analysis    INFO      7461 signal events sampled from benchmark benchmark_41\n",
      "17:56 madminer.analysis    INFO      7941 signal events sampled from benchmark benchmark_42\n",
      "17:56 madminer.analysis    INFO      8206 signal events sampled from benchmark benchmark_43\n",
      "17:56 madminer.analysis    INFO      4156 signal events sampled from benchmark benchmark_45\n",
      "17:56 madminer.analysis    INFO      4154 signal events sampled from benchmark benchmark_46\n",
      "17:56 madminer.analysis    INFO      4376 signal events sampled from benchmark benchmark_47\n",
      "17:56 madminer.analysis    INFO      4739 signal events sampled from benchmark benchmark_48\n",
      "17:56 madminer.analysis    INFO      5360 signal events sampled from benchmark benchmark_49\n",
      "17:56 madminer.analysis    INFO      6073 signal events sampled from benchmark benchmark_50\n",
      "17:56 madminer.analysis    INFO      6838 signal events sampled from benchmark benchmark_51\n",
      "17:56 madminer.analysis    INFO      7435 signal events sampled from benchmark benchmark_52\n",
      "17:56 madminer.analysis    INFO      7872 signal events sampled from benchmark benchmark_53\n",
      "17:56 madminer.analysis    INFO      8289 signal events sampled from benchmark benchmark_54\n",
      "17:56 madminer.analysis    INFO      4086 signal events sampled from benchmark benchmark_56\n",
      "17:56 madminer.analysis    INFO      4105 signal events sampled from benchmark benchmark_57\n",
      "17:56 madminer.analysis    INFO      4346 signal events sampled from benchmark benchmark_58\n",
      "17:56 madminer.analysis    INFO      4713 signal events sampled from benchmark benchmark_59\n",
      "17:56 madminer.analysis    INFO      5275 signal events sampled from benchmark benchmark_60\n",
      "17:56 madminer.analysis    INFO      6155 signal events sampled from benchmark benchmark_61\n",
      "17:56 madminer.analysis    INFO      6822 signal events sampled from benchmark benchmark_62\n",
      "17:56 madminer.analysis    INFO      7487 signal events sampled from benchmark benchmark_63\n",
      "17:56 madminer.analysis    INFO      7910 signal events sampled from benchmark benchmark_64\n",
      "17:56 madminer.analysis    INFO      8252 signal events sampled from benchmark benchmark_65\n",
      "17:56 madminer.analysis    INFO      4045 signal events sampled from benchmark benchmark_67\n",
      "17:56 madminer.analysis    INFO      4091 signal events sampled from benchmark benchmark_68\n",
      "17:56 madminer.analysis    INFO      4403 signal events sampled from benchmark benchmark_69\n",
      "17:56 madminer.analysis    INFO      4714 signal events sampled from benchmark benchmark_70\n",
      "17:56 madminer.analysis    INFO      5267 signal events sampled from benchmark benchmark_71\n",
      "17:56 madminer.analysis    INFO      6049 signal events sampled from benchmark benchmark_72\n",
      "17:56 madminer.analysis    INFO      6845 signal events sampled from benchmark benchmark_73\n",
      "17:56 madminer.analysis    INFO      7414 signal events sampled from benchmark benchmark_74\n",
      "17:56 madminer.analysis    INFO      7819 signal events sampled from benchmark benchmark_75\n",
      "17:56 madminer.analysis    INFO      8227 signal events sampled from benchmark benchmark_76\n",
      "17:56 madminer.analysis    INFO      4164 signal events sampled from benchmark benchmark_78\n",
      "17:56 madminer.analysis    INFO      4150 signal events sampled from benchmark benchmark_79\n",
      "17:56 madminer.analysis    INFO      4322 signal events sampled from benchmark benchmark_80\n",
      "17:56 madminer.analysis    INFO      4651 signal events sampled from benchmark benchmark_81\n",
      "17:56 madminer.analysis    INFO      5313 signal events sampled from benchmark benchmark_82\n",
      "17:56 madminer.analysis    INFO      6040 signal events sampled from benchmark benchmark_83\n",
      "17:56 madminer.analysis    INFO      6761 signal events sampled from benchmark benchmark_84\n",
      "17:56 madminer.analysis    INFO      7375 signal events sampled from benchmark benchmark_85\n",
      "17:56 madminer.analysis    INFO      7751 signal events sampled from benchmark benchmark_86\n",
      "17:56 madminer.analysis    INFO      8241 signal events sampled from benchmark benchmark_87\n",
      "17:56 madminer.analysis    INFO      4073 signal events sampled from benchmark benchmark_89\n",
      "17:56 madminer.analysis    INFO      4189 signal events sampled from benchmark benchmark_90\n",
      "17:56 madminer.analysis    INFO      4247 signal events sampled from benchmark benchmark_91\n",
      "17:56 madminer.analysis    INFO      4635 signal events sampled from benchmark benchmark_92\n",
      "17:56 madminer.analysis    INFO      5281 signal events sampled from benchmark benchmark_93\n"
     ]
    },
    {
     "name": "stderr",
     "output_type": "stream",
     "text": [
      "17:56 madminer.analysis    INFO      5975 signal events sampled from benchmark benchmark_94\n",
      "17:56 madminer.analysis    INFO      6652 signal events sampled from benchmark benchmark_95\n",
      "17:56 madminer.analysis    INFO      7280 signal events sampled from benchmark benchmark_96\n",
      "17:56 madminer.analysis    INFO      7832 signal events sampled from benchmark benchmark_97\n",
      "17:56 madminer.analysis    INFO      8212 signal events sampled from benchmark benchmark_98\n",
      "17:56 madminer.analysis    INFO      4063 signal events sampled from benchmark benchmark_100\n",
      "17:56 madminer.analysis    INFO      4122 signal events sampled from benchmark benchmark_101\n",
      "17:56 madminer.analysis    INFO      4285 signal events sampled from benchmark benchmark_102\n",
      "17:56 madminer.analysis    INFO      4655 signal events sampled from benchmark benchmark_103\n",
      "17:56 madminer.analysis    INFO      5252 signal events sampled from benchmark benchmark_104\n",
      "17:56 madminer.analysis    INFO      5917 signal events sampled from benchmark benchmark_105\n",
      "17:56 madminer.analysis    INFO      6779 signal events sampled from benchmark benchmark_106\n",
      "17:56 madminer.analysis    INFO      7336 signal events sampled from benchmark benchmark_107\n",
      "17:56 madminer.analysis    INFO      7854 signal events sampled from benchmark benchmark_108\n",
      "17:56 madminer.analysis    INFO      8225 signal events sampled from benchmark benchmark_109\n",
      "17:56 madminer.analysis    INFO      4155 signal events sampled from benchmark benchmark_111\n",
      "17:56 madminer.analysis    INFO      4136 signal events sampled from benchmark benchmark_112\n",
      "17:56 madminer.analysis    INFO      4342 signal events sampled from benchmark benchmark_113\n",
      "17:56 madminer.analysis    INFO      4718 signal events sampled from benchmark benchmark_114\n",
      "17:56 madminer.analysis    INFO      5249 signal events sampled from benchmark benchmark_115\n",
      "17:56 madminer.analysis    INFO      5912 signal events sampled from benchmark benchmark_116\n",
      "17:56 madminer.analysis    INFO      6667 signal events sampled from benchmark benchmark_117\n",
      "17:56 madminer.analysis    INFO      7302 signal events sampled from benchmark benchmark_118\n",
      "17:56 madminer.analysis    INFO      7771 signal events sampled from benchmark benchmark_119\n",
      "17:56 madminer.analysis    INFO      8169 signal events sampled from benchmark benchmark_120\n",
      "17:56 madminer.analysis    INFO    Did not find morphing setup.\n",
      "17:56 madminer.analysis    INFO    Did not find nuisance morphing setup\n",
      "17:56 madminer.core        INFO    Found 2 parameters:\n",
      "17:56 madminer.core        INFO       mzp (LHA: mass 56, maximal power in squared ME: (0,), range: (275.0, 325.0))\n",
      "17:56 madminer.core        INFO       gzp (LHA: dminputs 2, maximal power in squared ME: (0,), range: (0.0, 5.0))\n",
      "17:56 madminer.core        INFO    Found 121 benchmarks:\n",
      "17:56 madminer.core        INFO       benchmark_0: mzp = 2.75e+02, gzp = 0.00e+00\n",
      "17:56 madminer.core        INFO       benchmark_1: mzp = 2.75e+02, gzp = 0.50\n",
      "17:56 madminer.core        INFO       benchmark_2: mzp = 2.75e+02, gzp = 1.00\n",
      "17:56 madminer.core        INFO       benchmark_3: mzp = 2.75e+02, gzp = 1.50\n",
      "17:56 madminer.core        INFO       benchmark_4: mzp = 2.75e+02, gzp = 2.00\n",
      "17:56 madminer.core        INFO       benchmark_5: mzp = 2.75e+02, gzp = 2.50\n",
      "17:56 madminer.core        INFO       benchmark_6: mzp = 2.75e+02, gzp = 3.00\n",
      "17:56 madminer.core        INFO       benchmark_7: mzp = 2.75e+02, gzp = 3.50\n",
      "17:56 madminer.core        INFO       benchmark_8: mzp = 2.75e+02, gzp = 4.00\n",
      "17:56 madminer.core        INFO       benchmark_9: mzp = 2.75e+02, gzp = 4.50\n",
      "17:56 madminer.core        INFO       benchmark_10: mzp = 2.75e+02, gzp = 5.00\n",
      "17:56 madminer.core        INFO       benchmark_11: mzp = 2.80e+02, gzp = 0.00e+00\n",
      "17:56 madminer.core        INFO       benchmark_12: mzp = 2.80e+02, gzp = 0.50\n",
      "17:56 madminer.core        INFO       benchmark_13: mzp = 2.80e+02, gzp = 1.00\n",
      "17:56 madminer.core        INFO       benchmark_14: mzp = 2.80e+02, gzp = 1.50\n",
      "17:56 madminer.core        INFO       benchmark_15: mzp = 2.80e+02, gzp = 2.00\n",
      "17:56 madminer.core        INFO       benchmark_16: mzp = 2.80e+02, gzp = 2.50\n",
      "17:56 madminer.core        INFO       benchmark_17: mzp = 2.80e+02, gzp = 3.00\n",
      "17:56 madminer.core        INFO       benchmark_18: mzp = 2.80e+02, gzp = 3.50\n",
      "17:56 madminer.core        INFO       benchmark_19: mzp = 2.80e+02, gzp = 4.00\n",
      "17:56 madminer.core        INFO       benchmark_20: mzp = 2.80e+02, gzp = 4.50\n",
      "17:56 madminer.core        INFO       benchmark_21: mzp = 2.80e+02, gzp = 5.00\n",
      "17:56 madminer.core        INFO       benchmark_22: mzp = 2.85e+02, gzp = 0.00e+00\n",
      "17:56 madminer.core        INFO       benchmark_23: mzp = 2.85e+02, gzp = 0.50\n",
      "17:56 madminer.core        INFO       benchmark_24: mzp = 2.85e+02, gzp = 1.00\n",
      "17:56 madminer.core        INFO       benchmark_25: mzp = 2.85e+02, gzp = 1.50\n",
      "17:56 madminer.core        INFO       benchmark_26: mzp = 2.85e+02, gzp = 2.00\n",
      "17:56 madminer.core        INFO       benchmark_27: mzp = 2.85e+02, gzp = 2.50\n",
      "17:56 madminer.core        INFO       benchmark_28: mzp = 2.85e+02, gzp = 3.00\n",
      "17:56 madminer.core        INFO       benchmark_29: mzp = 2.85e+02, gzp = 3.50\n",
      "17:56 madminer.core        INFO       benchmark_30: mzp = 2.85e+02, gzp = 4.00\n",
      "17:56 madminer.core        INFO       benchmark_31: mzp = 2.85e+02, gzp = 4.50\n",
      "17:56 madminer.core        INFO       benchmark_32: mzp = 2.85e+02, gzp = 5.00\n",
      "17:56 madminer.core        INFO       benchmark_33: mzp = 2.90e+02, gzp = 0.00e+00\n",
      "17:56 madminer.core        INFO       benchmark_34: mzp = 2.90e+02, gzp = 0.50\n",
      "17:56 madminer.core        INFO       benchmark_35: mzp = 2.90e+02, gzp = 1.00\n",
      "17:56 madminer.core        INFO       benchmark_36: mzp = 2.90e+02, gzp = 1.50\n",
      "17:56 madminer.core        INFO       benchmark_37: mzp = 2.90e+02, gzp = 2.00\n",
      "17:56 madminer.core        INFO       benchmark_38: mzp = 2.90e+02, gzp = 2.50\n",
      "17:56 madminer.core        INFO       benchmark_39: mzp = 2.90e+02, gzp = 3.00\n",
      "17:56 madminer.core        INFO       benchmark_40: mzp = 2.90e+02, gzp = 3.50\n",
      "17:56 madminer.core        INFO       benchmark_41: mzp = 2.90e+02, gzp = 4.00\n",
      "17:56 madminer.core        INFO       benchmark_42: mzp = 2.90e+02, gzp = 4.50\n",
      "17:56 madminer.core        INFO       benchmark_43: mzp = 2.90e+02, gzp = 5.00\n",
      "17:56 madminer.core        INFO       benchmark_44: mzp = 2.95e+02, gzp = 0.00e+00\n",
      "17:56 madminer.core        INFO       benchmark_45: mzp = 2.95e+02, gzp = 0.50\n",
      "17:56 madminer.core        INFO       benchmark_46: mzp = 2.95e+02, gzp = 1.00\n",
      "17:56 madminer.core        INFO       benchmark_47: mzp = 2.95e+02, gzp = 1.50\n",
      "17:56 madminer.core        INFO       benchmark_48: mzp = 2.95e+02, gzp = 2.00\n",
      "17:56 madminer.core        INFO       benchmark_49: mzp = 2.95e+02, gzp = 2.50\n",
      "17:56 madminer.core        INFO       benchmark_50: mzp = 2.95e+02, gzp = 3.00\n",
      "17:56 madminer.core        INFO       benchmark_51: mzp = 2.95e+02, gzp = 3.50\n",
      "17:56 madminer.core        INFO       benchmark_52: mzp = 2.95e+02, gzp = 4.00\n",
      "17:56 madminer.core        INFO       benchmark_53: mzp = 2.95e+02, gzp = 4.50\n",
      "17:56 madminer.core        INFO       benchmark_54: mzp = 2.95e+02, gzp = 5.00\n",
      "17:56 madminer.core        INFO       benchmark_55: mzp = 3.00e+02, gzp = 0.00e+00\n",
      "17:56 madminer.core        INFO       benchmark_56: mzp = 3.00e+02, gzp = 0.50\n",
      "17:56 madminer.core        INFO       benchmark_57: mzp = 3.00e+02, gzp = 1.00\n",
      "17:56 madminer.core        INFO       benchmark_58: mzp = 3.00e+02, gzp = 1.50\n",
      "17:56 madminer.core        INFO       benchmark_59: mzp = 3.00e+02, gzp = 2.00\n",
      "17:56 madminer.core        INFO       benchmark_60: mzp = 3.00e+02, gzp = 2.50\n",
      "17:56 madminer.core        INFO       benchmark_61: mzp = 3.00e+02, gzp = 3.00\n",
      "17:56 madminer.core        INFO       benchmark_62: mzp = 3.00e+02, gzp = 3.50\n",
      "17:56 madminer.core        INFO       benchmark_63: mzp = 3.00e+02, gzp = 4.00\n",
      "17:56 madminer.core        INFO       benchmark_64: mzp = 3.00e+02, gzp = 4.50\n",
      "17:56 madminer.core        INFO       benchmark_65: mzp = 3.00e+02, gzp = 5.00\n",
      "17:56 madminer.core        INFO       benchmark_66: mzp = 3.05e+02, gzp = 0.00e+00\n",
      "17:56 madminer.core        INFO       benchmark_67: mzp = 3.05e+02, gzp = 0.50\n",
      "17:56 madminer.core        INFO       benchmark_68: mzp = 3.05e+02, gzp = 1.00\n"
     ]
    },
    {
     "name": "stderr",
     "output_type": "stream",
     "text": [
      "17:56 madminer.core        INFO       benchmark_69: mzp = 3.05e+02, gzp = 1.50\n",
      "17:56 madminer.core        INFO       benchmark_70: mzp = 3.05e+02, gzp = 2.00\n",
      "17:56 madminer.core        INFO       benchmark_71: mzp = 3.05e+02, gzp = 2.50\n",
      "17:56 madminer.core        INFO       benchmark_72: mzp = 3.05e+02, gzp = 3.00\n",
      "17:56 madminer.core        INFO       benchmark_73: mzp = 3.05e+02, gzp = 3.50\n",
      "17:56 madminer.core        INFO       benchmark_74: mzp = 3.05e+02, gzp = 4.00\n",
      "17:56 madminer.core        INFO       benchmark_75: mzp = 3.05e+02, gzp = 4.50\n",
      "17:56 madminer.core        INFO       benchmark_76: mzp = 3.05e+02, gzp = 5.00\n",
      "17:56 madminer.core        INFO       benchmark_77: mzp = 3.10e+02, gzp = 0.00e+00\n",
      "17:56 madminer.core        INFO       benchmark_78: mzp = 3.10e+02, gzp = 0.50\n",
      "17:56 madminer.core        INFO       benchmark_79: mzp = 3.10e+02, gzp = 1.00\n",
      "17:56 madminer.core        INFO       benchmark_80: mzp = 3.10e+02, gzp = 1.50\n",
      "17:56 madminer.core        INFO       benchmark_81: mzp = 3.10e+02, gzp = 2.00\n",
      "17:56 madminer.core        INFO       benchmark_82: mzp = 3.10e+02, gzp = 2.50\n",
      "17:56 madminer.core        INFO       benchmark_83: mzp = 3.10e+02, gzp = 3.00\n",
      "17:56 madminer.core        INFO       benchmark_84: mzp = 3.10e+02, gzp = 3.50\n",
      "17:56 madminer.core        INFO       benchmark_85: mzp = 3.10e+02, gzp = 4.00\n",
      "17:56 madminer.core        INFO       benchmark_86: mzp = 3.10e+02, gzp = 4.50\n",
      "17:56 madminer.core        INFO       benchmark_87: mzp = 3.10e+02, gzp = 5.00\n",
      "17:56 madminer.core        INFO       benchmark_88: mzp = 3.15e+02, gzp = 0.00e+00\n",
      "17:56 madminer.core        INFO       benchmark_89: mzp = 3.15e+02, gzp = 0.50\n",
      "17:56 madminer.core        INFO       benchmark_90: mzp = 3.15e+02, gzp = 1.00\n",
      "17:56 madminer.core        INFO       benchmark_91: mzp = 3.15e+02, gzp = 1.50\n",
      "17:56 madminer.core        INFO       benchmark_92: mzp = 3.15e+02, gzp = 2.00\n",
      "17:56 madminer.core        INFO       benchmark_93: mzp = 3.15e+02, gzp = 2.50\n",
      "17:56 madminer.core        INFO       benchmark_94: mzp = 3.15e+02, gzp = 3.00\n",
      "17:56 madminer.core        INFO       benchmark_95: mzp = 3.15e+02, gzp = 3.50\n",
      "17:56 madminer.core        INFO       benchmark_96: mzp = 3.15e+02, gzp = 4.00\n",
      "17:56 madminer.core        INFO       benchmark_97: mzp = 3.15e+02, gzp = 4.50\n",
      "17:56 madminer.core        INFO       benchmark_98: mzp = 3.15e+02, gzp = 5.00\n",
      "17:56 madminer.core        INFO       benchmark_99: mzp = 3.20e+02, gzp = 0.00e+00\n",
      "17:56 madminer.core        INFO       benchmark_100: mzp = 3.20e+02, gzp = 0.50\n",
      "17:56 madminer.core        INFO       benchmark_101: mzp = 3.20e+02, gzp = 1.00\n",
      "17:56 madminer.core        INFO       benchmark_102: mzp = 3.20e+02, gzp = 1.50\n",
      "17:56 madminer.core        INFO       benchmark_103: mzp = 3.20e+02, gzp = 2.00\n",
      "17:56 madminer.core        INFO       benchmark_104: mzp = 3.20e+02, gzp = 2.50\n",
      "17:56 madminer.core        INFO       benchmark_105: mzp = 3.20e+02, gzp = 3.00\n",
      "17:56 madminer.core        INFO       benchmark_106: mzp = 3.20e+02, gzp = 3.50\n",
      "17:56 madminer.core        INFO       benchmark_107: mzp = 3.20e+02, gzp = 4.00\n",
      "17:56 madminer.core        INFO       benchmark_108: mzp = 3.20e+02, gzp = 4.50\n",
      "17:56 madminer.core        INFO       benchmark_109: mzp = 3.20e+02, gzp = 5.00\n",
      "17:56 madminer.core        INFO       benchmark_110: mzp = 3.25e+02, gzp = 0.00e+00\n",
      "17:56 madminer.core        INFO       benchmark_111: mzp = 3.25e+02, gzp = 0.50\n",
      "17:56 madminer.core        INFO       benchmark_112: mzp = 3.25e+02, gzp = 1.00\n",
      "17:56 madminer.core        INFO       benchmark_113: mzp = 3.25e+02, gzp = 1.50\n",
      "17:56 madminer.core        INFO       benchmark_114: mzp = 3.25e+02, gzp = 2.00\n",
      "17:56 madminer.core        INFO       benchmark_115: mzp = 3.25e+02, gzp = 2.50\n",
      "17:56 madminer.core        INFO       benchmark_116: mzp = 3.25e+02, gzp = 3.00\n",
      "17:56 madminer.core        INFO       benchmark_117: mzp = 3.25e+02, gzp = 3.50\n",
      "17:56 madminer.core        INFO       benchmark_118: mzp = 3.25e+02, gzp = 4.00\n",
      "17:56 madminer.core        INFO       benchmark_119: mzp = 3.25e+02, gzp = 4.50\n",
      "17:56 madminer.core        INFO       benchmark_120: mzp = 3.25e+02, gzp = 5.00\n",
      "17:56 madminer.core        INFO    Did not find morphing setup.\n",
      "17:56 madminer.core        INFO    Did not find systematics setup.\n",
      "17:56 madminer.sampling    INFO    Extracting training sample for ratio-based methods. Numerator hypothesis: 121 benchmarks, starting with [u'benchmark_0', u'benchmark_1', u'benchmark_2'], denominator hypothesis: benchmark_65\n",
      "17:56 root                 WARNING No morphing setup loaded. Cannot calculate joint score.\n",
      "17:56 madminer.sampling    INFO    Starting sampling serially\n",
      "17:56 madminer.sampling    INFO    Sampling from parameter point 6 / 121\n",
      "17:56 madminer.sampling    INFO    Sampling from parameter point 12 / 121\n",
      "17:56 madminer.sampling    INFO    Sampling from parameter point 18 / 121\n",
      "17:57 madminer.sampling    INFO    Sampling from parameter point 24 / 121\n",
      "17:57 madminer.sampling    INFO    Sampling from parameter point 30 / 121\n",
      "17:57 madminer.sampling    INFO    Sampling from parameter point 36 / 121\n",
      "17:57 madminer.sampling    INFO    Sampling from parameter point 42 / 121\n",
      "17:57 madminer.sampling    INFO    Sampling from parameter point 48 / 121\n",
      "17:57 madminer.sampling    INFO    Sampling from parameter point 54 / 121\n",
      "17:57 madminer.sampling    INFO    Sampling from parameter point 60 / 121\n",
      "17:57 madminer.sampling    INFO    Sampling from parameter point 66 / 121\n",
      "17:57 madminer.sampling    INFO    Sampling from parameter point 72 / 121\n",
      "17:57 madminer.sampling    INFO    Sampling from parameter point 78 / 121\n",
      "17:57 madminer.sampling    INFO    Sampling from parameter point 84 / 121\n",
      "17:57 madminer.sampling    INFO    Sampling from parameter point 90 / 121\n",
      "17:57 madminer.sampling    INFO    Sampling from parameter point 96 / 121\n",
      "17:58 madminer.sampling    INFO    Sampling from parameter point 102 / 121\n",
      "17:58 madminer.sampling    INFO    Sampling from parameter point 108 / 121\n",
      "17:58 madminer.sampling    INFO    Sampling from parameter point 114 / 121\n",
      "17:58 madminer.sampling    INFO    Sampling from parameter point 120 / 121\n",
      "17:58 madminer.sampling    INFO    Effective number of samples: mean 4525.173321845086, with individual thetas ranging from 2259.5932624764528 to 6643.999999999999\n",
      "17:58 madminer.sampling    INFO    Starting sampling serially\n",
      "17:58 madminer.sampling    INFO    Sampling from parameter point 6 / 121\n",
      "17:58 madminer.sampling    INFO    Sampling from parameter point 12 / 121\n",
      "17:58 madminer.sampling    INFO    Sampling from parameter point 18 / 121\n",
      "17:58 madminer.sampling    INFO    Sampling from parameter point 24 / 121\n",
      "17:58 madminer.sampling    INFO    Sampling from parameter point 30 / 121\n",
      "17:58 madminer.sampling    INFO    Sampling from parameter point 36 / 121\n",
      "17:58 madminer.sampling    INFO    Sampling from parameter point 42 / 121\n",
      "17:58 madminer.sampling    INFO    Sampling from parameter point 48 / 121\n",
      "17:58 madminer.sampling    INFO    Sampling from parameter point 54 / 121\n",
      "17:59 madminer.sampling    INFO    Sampling from parameter point 60 / 121\n",
      "17:59 madminer.sampling    INFO    Sampling from parameter point 66 / 121\n",
      "17:59 madminer.sampling    INFO    Sampling from parameter point 72 / 121\n",
      "17:59 madminer.sampling    INFO    Sampling from parameter point 78 / 121\n",
      "17:59 madminer.sampling    INFO    Sampling from parameter point 84 / 121\n",
      "17:59 madminer.sampling    INFO    Sampling from parameter point 90 / 121\n",
      "17:59 madminer.sampling    INFO    Sampling from parameter point 96 / 121\n",
      "17:59 madminer.sampling    INFO    Sampling from parameter point 102 / 121\n",
      "17:59 madminer.sampling    INFO    Sampling from parameter point 108 / 121\n",
      "17:59 madminer.sampling    INFO    Sampling from parameter point 114 / 121\n",
      "17:59 madminer.sampling    INFO    Sampling from parameter point 120 / 121\n",
      "17:59 madminer.sampling    INFO    Effective number of samples: mean 6628.000000000001, with individual thetas ranging from 6628.000000000001 to 6628.000000000001\n",
      "17:59 madminer.sampling    INFO    Extracting evaluation sample. Sampling according to benchmark_28\n",
      "17:59 madminer.sampling    INFO    Starting sampling serially\n",
      "17:59 madminer.sampling    INFO    Sampling from parameter point 1 / 1\n"
     ]
    },
    {
     "name": "stderr",
     "output_type": "stream",
     "text": [
      "17:59 madminer.sampling    INFO    Effective number of samples: mean 1234.0000000000002, with individual thetas ranging from 1234.0000000000002 to 1234.0000000000002\n"
     ]
    }
   ],
   "source": [
    "miner = MadMiner()\n",
    "sampler = SampleAugmenter('meta/delphes_data_shuffled_g02.h5')\n",
    "miner.load(\"meta/setup.h5\")\n",
    "\n",
    "# 300, 2.0\n",
    "training_theta_ref = 'benchmark_65'\n",
    "# 285, 1.2\n",
    "testing_theta_true = 'benchmark_28'\n",
    "\n",
    "x, theta0, theta1, y, r_xz, t_xz, n_effective = sampler.sample_train_ratio(\n",
    "    theta0=sampling.benchmarks(list(sampler.benchmarks.keys())),\n",
    "    theta1=sampling.benchmark(training_theta_ref),\n",
    "    n_samples=1000000,\n",
    "    folder='./meta/samples',\n",
    "    filename='train_ratio',\n",
    "    sample_only_from_closest_benchmark=True,\n",
    "    return_individual_n_effective=True,\n",
    ")\n",
    "x_test,_,_ = sampler.sample_test(\n",
    "    theta=sampling.benchmark(testing_theta_true),\n",
    "    n_samples=10000,\n",
    "    folder='./meta/samples',\n",
    "    filename='test',\n",
    ")"
   ]
  },
  {
   "cell_type": "markdown",
   "metadata": {},
   "source": [
    "**WARNING**: The cell below should usually not be run. This will generate a new testing set that is completely independent of the training set, as an extra precaution to avoid any possibility of contamination of testing data effecting the training of the model. We only ever use this set to report expected behavior in the paper, all tuning of parameters is done to fit the validation set sampled in the previous cell."
   ]
  },
  {
   "cell_type": "code",
   "execution_count": 85,
   "metadata": {},
   "outputs": [
    {
     "name": "stderr",
     "output_type": "stream",
     "text": [
      "01:29 madminer.core        INFO    Added parameter mzp (LHA: mass 56, maximal power in squared ME: (0,), range: (0.0, 1.0))\n",
      "01:29 madminer.core        INFO    Added parameter gzp (LHA: dminputs 2, maximal power in squared ME: (0,), range: (0.0, 1.0))\n",
      "01:29 madminer.core        INFO    Added benchmark benchmark_0: mzp = 2.85e+02, gzp = 1.20)\n",
      "01:29 madminer.core        INFO    Saving setup (without morphing) to meta/setup_test_set.h5\n",
      "01:29 madminer.utils.inter INFO    Generating MadGraph process folder from cards/proc_card.dat at /udd/madminer_events_test_set/signal_pythia_dummy\n",
      "01:29 madminer.core        INFO    Run 0\n",
      "01:29 madminer.core        INFO      Sampling from benchmark: benchmark_0\n",
      "01:29 madminer.core        INFO      Original run card:       cards/run_card_signal.dat\n",
      "01:29 madminer.core        INFO      Original Pythia8 card:   cards/pythia8_card.dat\n",
      "01:29 madminer.core        INFO      Copied run card:         /madminer/cards/run_card_0.dat\n",
      "01:29 madminer.core        INFO      Copied Pythia8 card:     /madminer/cards/pythia8_card_0.dat\n",
      "01:29 madminer.core        INFO      Param card:              /madminer/cards/param_card_0.dat\n",
      "01:29 madminer.core        INFO      Reweight card:           /madminer/cards/reweight_card_0.dat\n",
      "01:29 madminer.core        INFO      Log file:                run_0.log\n",
      "01:29 madminer.core        INFO    Creating param and reweight cards in /udd/madminer_events_test_set/signal_pythia_dummy//madminer/cards/param_card_0.dat, /udd/madminer_events_test_set/signal_pythia_dummy//madminer/cards/reweight_card_0.dat\n",
      "01:29 madminer.utils.inter INFO    Starting MadGraph and Pythia in /udd/madminer_events_test_set/signal_pythia_dummy\n",
      "01:38 madminer.core        INFO    Finished running MadGraph! Please check that events were succesfully generated in the following folders:\n",
      "\n",
      "/udd/madminer_events_test_set/signal_pythia_dummy/Events/run_01\n",
      "\n",
      "\n",
      "01:38 madminer.delphes     INFO    Running Delphes on HepMC sample at /udd/madminer_events_test_set/signal_pythia_dummy/Events/run_01/tag_1_pythia8_events.hepmc.gz\n",
      "01:40 madminer.delphes     INFO    Analysing Delphes sample /udd/madminer_events_test_set/signal_pythia_dummy/Events/run_01/tag_1_pythia8_events_delphes.root: Calculating 8 observables, requiring 2 selection cuts\n",
      "01:40 madminer.utils.inter INFO      12423 / 20000 events pass everything\n",
      "01:40 madminer.delphes     INFO    Analysed number of events per sampling benchmark:\n",
      "01:40 madminer.delphes     INFO      12423 from benchmark_0\n",
      "01:40 madminer.sampling    INFO    Copying setup from meta/delphes_data_test_set.h5 to meta/delphes_data_shuffled_test_set.h5\n",
      "01:40 madminer.sampling    INFO    Loading samples from file 1 / 1 at meta/delphes_data_test_set.h5, multiplying weights with k factor 1.0\n"
     ]
    }
   ],
   "source": [
    "## Generate Testing data\n",
    "###########################################################################################\n",
    "mg_dir = '/home/kwl/Documents/hep/MG5_aMC_v2_6_5'    # Points to Madgraph Install     \n",
    "events_dir = '/udd/madminer_events_test_set/'            # Points to directory to save events \n",
    "                                                     # (where the run_XX folders are saved)\n",
    "setup_file = 'meta/setup_test_set.h5'\n",
    "###########################################################################################\n",
    "miner = MadMiner()\n",
    "\n",
    "miner.add_parameter(\n",
    "    lha_block='mass',\n",
    "    lha_id=56,\n",
    "    parameter_name='mzp',\n",
    "    morphing_max_power=0,\n",
    ")\n",
    "\n",
    "miner.add_parameter(\n",
    "    lha_block='dminputs',\n",
    "    lha_id=2,\n",
    "    parameter_name='gzp',\n",
    "    morphing_max_power=0,\n",
    ")\n",
    "\n",
    "miner.add_benchmark({'mzp': 285.0,'gzp': 1.2})\n",
    "\n",
    "miner.save(setup_file)\n",
    "\n",
    "miner.run(\n",
    "    mg_directory=mg_dir,\n",
    "    mg_process_directory=events_dir+'signal_pythia_dummy',\n",
    "    proc_card_file='cards/proc_card.dat',\n",
    "    param_card_template_file='cards/param_card.dat',\n",
    "    pythia8_card_file='cards/pythia8_card.dat',\n",
    "    run_card_file='cards/run_card_signal.dat',\n",
    "    log_directory='logs/signal'\n",
    ")\n",
    "\n",
    "delphes = DelphesReader(setup_file)\n",
    "\n",
    "delphes.add_sample(\n",
    "    lhe_filename=events_dir + 'signal_pythia_dummy/Events/run_01/unweighted_events.lhe.gz',\n",
    "    hepmc_filename=events_dir + 'signal_pythia_dummy/Events/run_01/tag_1_pythia8_events.hepmc.gz',\n",
    "    sampled_from_benchmark='benchmark_0',\n",
    "    is_background=False\n",
    ")\n",
    "\n",
    "delphes.run_delphes(\n",
    "    delphes_directory=mg_dir + '/Delphes',\n",
    "    delphes_card='cards/delphes_card.dat',\n",
    "    log_file='logs/delphes.log',\n",
    ")\n",
    "\n",
    "delphes.reset_cuts()\n",
    "\n",
    "delphes.add_observable(\n",
    "    'eta0',\n",
    "    'j[0].eta',\n",
    "    required=True\n",
    ")\n",
    "delphes.add_observable(\n",
    "    'phi0',\n",
    "    'j[0].phi()',\n",
    "    required=True,\n",
    ")\n",
    "delphes.add_observable(\n",
    "    'pt0',\n",
    "    'j[0].pt',\n",
    "    required=True,\n",
    ")\n",
    "delphes.add_observable(\n",
    "    'm0',\n",
    "    'j[0].m',\n",
    "    required=True,\n",
    ")\n",
    "delphes.add_observable(\n",
    "    'eta1',\n",
    "    'j[1].eta',\n",
    "    required=True,\n",
    ")\n",
    "delphes.add_observable(\n",
    "    'phi1',\n",
    "    'j[1].phi()',\n",
    "    required=True,\n",
    ")\n",
    "delphes.add_observable(\n",
    "    'pt1',\n",
    "    'j[1].pt',\n",
    "    required=True,\n",
    ")\n",
    "delphes.add_observable(\n",
    "    'm1',\n",
    "    'j[1].m',\n",
    "    required=True,\n",
    ")\n",
    "\n",
    "#### Cuts ####\n",
    "invariant_mass = 'sqrt(2*abs(j[0].pt)*abs(j[1].pt)*(cosh(j[0].eta-j[1].eta)-cos(j[0].phi()-j[1].phi())))'\n",
    "delphes.add_cut(invariant_mass + '>150')\n",
    "delphes.add_cut(invariant_mass + '<450')\n",
    "\n",
    "#### Process & Export ####\n",
    "\n",
    "delphes.analyse_delphes_samples()\n",
    "delphes.save('meta/delphes_data_test_set.h5')\n",
    "combine_and_shuffle(\n",
    "    ['meta/delphes_data_test_set.h5'],\n",
    "    'meta/delphes_data_shuffled_test_set.h5'\n",
    ")"
   ]
  },
  {
   "cell_type": "code",
   "execution_count": 3,
   "metadata": {},
   "outputs": [
    {
     "name": "stderr",
     "output_type": "stream",
     "text": [
      "17:59 madminer.analysis    INFO    Loading data from meta/delphes_data_shuffled_test_set.h5\n",
      "17:59 madminer.analysis    INFO    Found 2 parameters\n",
      "17:59 madminer.analysis    INFO    Did not find nuisance parameters\n",
      "17:59 madminer.analysis    INFO    Found 1 benchmarks, of which 1 physical\n",
      "17:59 madminer.analysis    INFO    Found 8 observables\n",
      "17:59 madminer.analysis    INFO    Found 12423 events\n",
      "17:59 madminer.analysis    INFO      12423 signal events sampled from benchmark benchmark_0\n",
      "17:59 madminer.analysis    INFO    Did not find morphing setup.\n",
      "17:59 madminer.analysis    INFO    Did not find nuisance morphing setup\n",
      "17:59 madminer.sampling    INFO    Extracting evaluation sample. Sampling according to benchmark_0\n",
      "17:59 madminer.sampling    INFO    Starting sampling serially\n",
      "17:59 madminer.sampling    INFO    Sampling from parameter point 1 / 1\n",
      "17:59 madminer.sampling    INFO    Effective number of samples: mean 2483.9999999999995, with individual thetas ranging from 2483.9999999999995 to 2483.9999999999995\n"
     ]
    }
   ],
   "source": [
    "sampler_test_set = SampleAugmenter('meta/delphes_data_shuffled_test_set.h5')\n",
    "\n",
    "x_test,_,_ = sampler_test_set.sample_test(\n",
    "    theta=sampling.benchmark('benchmark_0'),\n",
    "    n_samples=10000,\n",
    "    folder='./meta/samples',\n",
    "    filename='test',\n",
    ")"
   ]
  },
  {
   "cell_type": "markdown",
   "metadata": {},
   "source": [
    "## ALICE results on full input\n",
    "\n",
    "Set hyperparameters and train ALICE likelihood ratio estimator on full input (four-momenta of both jets)"
   ]
  },
  {
   "cell_type": "code",
   "execution_count": null,
   "metadata": {},
   "outputs": [],
   "source": [
    "estimator = ParameterizedRatioEstimator(\n",
    "    n_hidden=(12,12,12),\n",
    ")\n",
    "\n",
    "# Default activation is tanh()\n",
    "train_loss, val_loss = estimator.train(\n",
    "    method='alice',\n",
    "    theta=theta0,\n",
    "    x=x,\n",
    "    y=y,\n",
    "    r_xz=r_xz,\n",
    "    initial_lr = .0022,\n",
    "    final_lr = .0001,\n",
    "    batch_size = 128,\n",
    "    optimizer='amsgrad',\n",
    "    n_epochs=100,\n",
    "    limit_samplesize=1000000,\n",
    "    scale_parameters=True\n",
    ")\n",
    "\n",
    "#estimator.save('models/alice')"
   ]
  },
  {
   "cell_type": "markdown",
   "metadata": {},
   "source": [
    "Set parameters regarding how we test our model."
   ]
  },
  {
   "cell_type": "code",
   "execution_count": 4,
   "metadata": {},
   "outputs": [],
   "source": [
    "grid_res = 26\n",
    "n_test_events = 50\n",
    "n_experiments = 1000\n",
    "\n",
    "theta_m = np.linspace(275.,325.,grid_res)\n",
    "theta_g = np.linspace(0.,2.,grid_res)\n",
    "\n",
    "theta_horizontal, theta_vertical = np.meshgrid(theta_m, theta_g)\n",
    "theta_grid = np.hstack((theta_horizontal.reshape((-1,1)), theta_vertical.reshape((-1,1))))\n",
    "np.save('meta/samples/theta_grid.npy', theta_grid)"
   ]
  },
  {
   "cell_type": "markdown",
   "metadata": {},
   "source": [
    "Use our trained model to evaluate the likelihood ratios of the validation set at each point in theta_grid."
   ]
  },
  {
   "cell_type": "code",
   "execution_count": 5,
   "metadata": {},
   "outputs": [
    {
     "name": "stderr",
     "output_type": "stream",
     "text": [
      "17:59 madminer.ml          INFO    Loading model from models/alice\n",
      "17:59 madminer.ml          INFO    Loading evaluation data\n",
      "17:59 madminer.ml          INFO    Starting ratio evaluation for 6760000 x-theta combinations\n",
      "18:01 madminer.ml          INFO    Evaluation done\n"
     ]
    }
   ],
   "source": [
    "estimator = ParameterizedRatioEstimator(\n",
    "    n_hidden=(12,12,12),\n",
    ")\n",
    "\n",
    "estimator.load('models/alice')\n",
    "\n",
    "log_r_hat, _ = estimator.evaluate_log_likelihood_ratio(\n",
    "    theta=theta_grid,\n",
    "    x=x_test,\n",
    "    evaluate_score=False,\n",
    "    test_all_combinations=True\n",
    ")"
   ]
  },
  {
   "cell_type": "markdown",
   "metadata": {},
   "source": [
    "Plot p-values over the $\\theta$-plane"
   ]
  },
  {
   "cell_type": "code",
   "execution_count": 6,
   "metadata": {},
   "outputs": [
    {
     "data": {
      "image/png": "[encoded data removed]",
      "text/plain": [
       "<matplotlib.figure.Figure at 0x7f7506f2cc90>"
      ]
     },
     "metadata": {
      "needs_background": "light"
     },
     "output_type": "display_data"
    }
   ],
   "source": [
    "bin_size_m = theta_m[1] - theta_m[0]\n",
    "bin_size_g = theta_g[1] - theta_g[0]\n",
    "\n",
    "# Shift so that the grid points we evaluated are in the center of a cell.\n",
    "edges_m = np.linspace(theta_m[0] - bin_size_m/2, theta_m[-1] + bin_size_m/2, len(theta_m)+1)\n",
    "edges_g = np.linspace(theta_g[0] - bin_size_g/2, theta_g[-1] + bin_size_g/2, len(theta_g)+1)\n",
    "\n",
    "# Calculate p_theta at each point in theta_grid using the Neyman construction.\n",
    "pvals = run_pseudoexperiments(log_r_hat, theta_m.shape[0],theta_g.shape[0], n_test_events, n_experiments)\n",
    "\n",
    "fig = plt.figure(figsize=(20,10))\n",
    "ax = plt.gca()\n",
    "cmin, cmax = np.min(pvals), np.max(pvals)\n",
    "pcm = ax.pcolormesh(edges_m, edges_g, pvals,\n",
    "                    norm=matplotlib.colors.Normalize(vmin=cmin, vmax=cmax),\n",
    "                    cmap='viridis')\n",
    "cbar = fig.colorbar(pcm, ax=ax, extend='both')\n",
    "\n",
    "plt.scatter(sampler.benchmarks[testing_theta_true]['mzp'], sampler.benchmarks[testing_theta_true]['gzp'], s=80., color='black', marker='x')\n",
    "\n",
    "plt.xlabel(r'$m$')\n",
    "plt.ylabel(r'$g$')\n",
    "cbar.set_label(r'$p$')\n",
    "\n",
    "plt.tight_layout()\n",
    "plt.show()"
   ]
  },
  {
   "cell_type": "markdown",
   "metadata": {},
   "source": [
    "## Histogram results on invariant mass\n",
    "\n",
    "Use training data to calculate $r(m_{jj}|\\theta)$ for each benchmark $\\theta$ that was sampled."
   ]
  },
  {
   "cell_type": "code",
   "execution_count": 7,
   "metadata": {},
   "outputs": [],
   "source": [
    "theta_m_lowres= np.linspace(275., 325., 11)\n",
    "theta_g_lowres = np.linspace(0., 2., 11)\n",
    "theta_horizontal_lowres, theta_vertical_lowres = np.meshgrid(theta_m_lowres, theta_g_lowres)\n",
    "theta_grid_lowres = np.hstack((theta_horizontal_lowres.reshape((-1,1)), theta_vertical_lowres.reshape((-1,1))))\n",
    "np.save('meta/samples/theta_grid_lowres.npy', theta_grid_lowres)\n",
    "\n",
    "invm_bins = np.linspace(150., 450., 16)\n",
    "lr_hists = np.zeros(shape=[theta_grid_lowres.shape[0], invm_bins.shape[0]-1])\n",
    "\n",
    "# Histograms of events in the training set\n",
    "for j in range(len(theta_g_lowres)):\n",
    "    for i in range(len(theta_m_lowres)):\n",
    "        m = theta_m_lowres[i]\n",
    "        g = theta_g_lowres[j]\n",
    "        index = j * theta_g_lowres.shape[0] + i\n",
    "        lr_hists[index], _ = np.histogram(calculate_invariant_mass(x)[np.where((np.isclose(theta0[:,0],m)) \\\n",
    "                                * (np.isclose(theta0[:,1],g)) * (np.isclose(y[:,0],0)))[0]], bins=invm_bins)"
   ]
  },
  {
   "cell_type": "markdown",
   "metadata": {},
   "source": [
    "Use this likelihood ratio to calculate the likelihood ratio of all events in the test set."
   ]
  },
  {
   "cell_type": "code",
   "execution_count": 8,
   "metadata": {},
   "outputs": [],
   "source": [
    "ref_theory_i = np.where(np.isclose(theta_m_lowres, sampler.benchmarks[training_theta_ref]['mzp']))[0]\n",
    "ref_theory_j = np.where(np.isclose(theta_g_lowres, sampler.benchmarks[training_theta_ref]['gzp']))[0]\n",
    "log_rx_training = np.log(lr_hists / lr_hists[ref_theory_i * theta_m_lowres.shape[0] + ref_theory_j])\n",
    "\n",
    "# For some reason, np.digitize assumes indexing from 1 instead of 0, so we subtract 1.\n",
    "x_test_bin_assignment = np.digitize(calculate_invariant_mass(x_test), invm_bins)-1\n",
    "# Use the likelihood ratio from histograms of events in the training set to assign likelihood ratio to test events.\n",
    "log_r_mjj_test = log_rx_training[:, x_test_bin_assignment]"
   ]
  },
  {
   "cell_type": "markdown",
   "metadata": {},
   "source": [
    "We show plots of the results and also show the result of the ML likelihood ratio on this lower-resolution grid for comparison. ML result performs much better!"
   ]
  },
  {
   "cell_type": "code",
   "execution_count": 9,
   "metadata": {},
   "outputs": [
    {
     "data": {
      "image/png": "[encoded data removed]",
      "text/plain": [
       "<matplotlib.figure.Figure at 0x7f7473935e50>"
      ]
     },
     "metadata": {
      "needs_background": "light"
     },
     "output_type": "display_data"
    }
   ],
   "source": [
    "bin_size_m_lowres = theta_m_lowres[1] - theta_m_lowres[0]\n",
    "bin_size_g_lowres= theta_g_lowres[1] - theta_g_lowres[0]\n",
    "\n",
    "edges_m_lowres = np.linspace(theta_m_lowres[0] - bin_size_m_lowres/2, theta_m_lowres[-1] + bin_size_m_lowres/2, len(theta_m_lowres)+1)\n",
    "edges_g_lowres = np.linspace(theta_g_lowres[0] - bin_size_g_lowres/2, theta_g_lowres[-1] + bin_size_g_lowres/2, len(theta_g_lowres)+1)\n",
    "\n",
    "pvals_hist = run_pseudoexperiments(log_r_mjj_test, theta_m_lowres.shape[0],theta_g_lowres.shape[0], n_test_events, n_experiments)\n",
    "\n",
    "fig = plt.figure(figsize=(20,10))\n",
    "ax = plt.gca()\n",
    "cmin, cmax = np.min(pvals_hist), np.max(pvals_hist)\n",
    "pcm = ax.pcolormesh(edges_m_lowres, edges_g_lowres, pvals_hist,\n",
    "                    norm=matplotlib.colors.Normalize(vmin=cmin, vmax=cmax),\n",
    "                    cmap='viridis')\n",
    "cbar = fig.colorbar(pcm, ax=ax, extend='both')\n",
    "\n",
    "plt.scatter(sampler.benchmarks[testing_theta_true]['mzp'], sampler.benchmarks[testing_theta_true]['gzp'], s=80., color='black', marker='x')\n",
    "\n",
    "plt.xlabel(r'$m$')\n",
    "plt.ylabel(r'$g$')\n",
    "cbar.set_label(r'$p$')\n",
    "\n",
    "plt.tight_layout()\n",
    "plt.savefig('figures/invm_histogram_pvals.png', format='png')\n",
    "#plt.savefig('figures/invm_histogram_pvals.svg', format='svg')\n",
    "plt.show()"
   ]
  },
  {
   "cell_type": "code",
   "execution_count": 10,
   "metadata": {},
   "outputs": [
    {
     "name": "stderr",
     "output_type": "stream",
     "text": [
      "18:01 madminer.ml          INFO    Loading model from models/alice\n",
      "18:01 madminer.ml          INFO    Loading evaluation data\n",
      "18:01 madminer.ml          INFO    Starting ratio evaluation for 1210000 x-theta combinations\n",
      "18:01 madminer.ml          INFO    Evaluation done\n"
     ]
    },
    {
     "data": {
      "image/png": "[encoded data removed]",
      "text/plain": [
       "<matplotlib.figure.Figure at 0x7f747423a290>"
      ]
     },
     "metadata": {
      "needs_background": "light"
     },
     "output_type": "display_data"
    }
   ],
   "source": [
    "estimator.load('models/alice')\n",
    "\n",
    "log_r_hat_lowres, _ = estimator.evaluate_log_likelihood_ratio(\n",
    "    theta=theta_grid_lowres,\n",
    "    x=x_test,\n",
    "    evaluate_score=False,\n",
    "    test_all_combinations=True\n",
    ")\n",
    "\n",
    "pvals_lowres = run_pseudoexperiments(log_r_hat_lowres, theta_m_lowres.shape[0],theta_g_lowres.shape[0], n_test_events, n_experiments)\n",
    "\n",
    "fig = plt.figure(figsize=(20,10))\n",
    "ax = plt.gca()\n",
    "cmin, cmax = np.min(pvals_lowres), np.max(pvals_lowres)\n",
    "pcm = ax.pcolormesh(edges_m_lowres, edges_g_lowres, pvals_lowres,\n",
    "                    norm=matplotlib.colors.Normalize(vmin=cmin, vmax=cmax),\n",
    "                    cmap='viridis')\n",
    "cbar = fig.colorbar(pcm, ax=ax, extend='both')\n",
    "\n",
    "plt.scatter(sampler.benchmarks[testing_theta_true]['mzp'], sampler.benchmarks[testing_theta_true]['gzp'], s=80., color='black', marker='x')\n",
    "\n",
    "plt.xlabel(r'$m$')\n",
    "plt.ylabel(r'$g$')\n",
    "cbar.set_label(r'$p$')\n",
    "\n",
    "plt.tight_layout()\n",
    "plt.savefig('figures/full_input_ALICE_pvals.png', format='png')\n",
    "#plt.savefig('figures/full_input_ALICE_pvals.svg', format='svg')\n",
    "plt.show()"
   ]
  },
  {
   "cell_type": "markdown",
   "metadata": {},
   "source": [
    "## ALICE results on invariant mass"
   ]
  },
  {
   "cell_type": "markdown",
   "metadata": {},
   "source": [
    "ALICE method with invariant mass as input. Allows us to form an *unbinned* likelihood ratio in invariant mass, to show that the difference in performance seen before does not stem from information loss due to binning. Also demonstrates that invariant mass is not the only variable that contains information that may be used to discriminate between different $\\theta$, as the results here are not as constrained as the ALICE result with full input."
   ]
  },
  {
   "cell_type": "code",
   "execution_count": 79,
   "metadata": {},
   "outputs": [
    {
     "name": "stderr",
     "output_type": "stream",
     "text": [
      "09:51 madminer.ml          INFO    Starting training\n",
      "09:51 madminer.ml          INFO      Method:                 alice\n",
      "09:51 madminer.ml          INFO      Batch size:             128\n",
      "09:51 madminer.ml          INFO      Optimizer:              amsgrad\n",
      "09:51 madminer.ml          INFO      Epochs:                 100\n",
      "09:51 madminer.ml          INFO      Learning rate:          0.001 initially, decaying to 1e-05\n",
      "09:51 madminer.ml          INFO      Validation split:       0.25\n",
      "09:51 madminer.ml          INFO      Early stopping:         True\n",
      "09:51 madminer.ml          INFO      Scale inputs:           True\n",
      "09:51 madminer.ml          INFO      Scale parameters:       True\n",
      "09:51 madminer.ml          INFO      Shuffle labels          False\n",
      "09:51 madminer.ml          INFO      Samples:                1000000\n",
      "09:51 madminer.ml          INFO    Loading training data\n",
      "09:51 madminer.ml          INFO    Found 999944 samples with 2 parameters and 1 observables\n",
      "09:51 madminer.ml          INFO    Rescaling inputs\n",
      "09:51 madminer.ml          INFO    Rescaling parameters\n",
      "09:51 madminer.ml          INFO    Creating model\n",
      "09:51 madminer.ml          INFO    Training model\n",
      "09:51 madminer.utils.ml.tr INFO    Training on GPU with single precision\n",
      "09:53 madminer.utils.ml.tr INFO    Epoch   5: train loss  0.65406 (improved_xe:  0.654)\n",
      "09:53 madminer.utils.ml.tr INFO               val. loss   0.65481 (improved_xe:  0.655)\n",
      "09:56 madminer.utils.ml.tr INFO    Epoch  10: train loss  0.65367 (improved_xe:  0.654)\n",
      "09:56 madminer.utils.ml.tr INFO               val. loss   0.65466 (improved_xe:  0.655)\n",
      "09:58 madminer.utils.ml.tr INFO    Epoch  15: train loss  0.65345 (improved_xe:  0.653)\n",
      "09:58 madminer.utils.ml.tr INFO               val. loss   0.65441 (improved_xe:  0.654)\n",
      "10:00 madminer.utils.ml.tr INFO    Epoch  20: train loss  0.65332 (improved_xe:  0.653)\n",
      "10:00 madminer.utils.ml.tr INFO               val. loss   0.65426 (improved_xe:  0.654)\n",
      "10:02 madminer.utils.ml.tr INFO    Epoch  25: train loss  0.65323 (improved_xe:  0.653)\n",
      "10:02 madminer.utils.ml.tr INFO               val. loss   0.65392 (improved_xe:  0.654)\n",
      "10:04 madminer.utils.ml.tr INFO    Epoch  30: train loss  0.65317 (improved_xe:  0.653)\n",
      "10:04 madminer.utils.ml.tr INFO               val. loss   0.65408 (improved_xe:  0.654)\n",
      "10:06 madminer.utils.ml.tr INFO    Epoch  35: train loss  0.65312 (improved_xe:  0.653)\n",
      "10:06 madminer.utils.ml.tr INFO               val. loss   0.65403 (improved_xe:  0.654)\n",
      "10:08 madminer.utils.ml.tr INFO    Epoch  40: train loss  0.65308 (improved_xe:  0.653)\n",
      "10:08 madminer.utils.ml.tr INFO               val. loss   0.65394 (improved_xe:  0.654)\n",
      "10:10 madminer.utils.ml.tr INFO    Epoch  45: train loss  0.65311 (improved_xe:  0.653)\n",
      "10:10 madminer.utils.ml.tr INFO               val. loss   0.65377 (improved_xe:  0.654)\n",
      "10:12 madminer.utils.ml.tr INFO    Epoch  50: train loss  0.65305 (improved_xe:  0.653)\n",
      "10:12 madminer.utils.ml.tr INFO               val. loss   0.65388 (improved_xe:  0.654)\n",
      "10:15 madminer.utils.ml.tr INFO    Epoch  55: train loss  0.65306 (improved_xe:  0.653)\n",
      "10:15 madminer.utils.ml.tr INFO               val. loss   0.65389 (improved_xe:  0.654)\n",
      "10:17 madminer.utils.ml.tr INFO    Epoch  60: train loss  0.65303 (improved_xe:  0.653)\n",
      "10:17 madminer.utils.ml.tr INFO               val. loss   0.65385 (improved_xe:  0.654)\n",
      "10:19 madminer.utils.ml.tr INFO    Epoch  65: train loss  0.65306 (improved_xe:  0.653)\n",
      "10:19 madminer.utils.ml.tr INFO               val. loss   0.65402 (improved_xe:  0.654)\n",
      "10:21 madminer.utils.ml.tr INFO    Epoch  70: train loss  0.65302 (improved_xe:  0.653)\n",
      "10:21 madminer.utils.ml.tr INFO               val. loss   0.65385 (improved_xe:  0.654)\n",
      "10:23 madminer.utils.ml.tr INFO    Epoch  75: train loss  0.65305 (improved_xe:  0.653)\n",
      "10:23 madminer.utils.ml.tr INFO               val. loss   0.65375 (improved_xe:  0.654)\n",
      "10:25 madminer.utils.ml.tr INFO    Epoch  80: train loss  0.65304 (improved_xe:  0.653)\n",
      "10:25 madminer.utils.ml.tr INFO               val. loss   0.65374 (improved_xe:  0.654)\n",
      "10:27 madminer.utils.ml.tr INFO    Epoch  85: train loss  0.65301 (improved_xe:  0.653)\n",
      "10:27 madminer.utils.ml.tr INFO               val. loss   0.65381 (improved_xe:  0.654)\n",
      "10:29 madminer.utils.ml.tr INFO    Epoch  90: train loss  0.65301 (improved_xe:  0.653)\n",
      "10:29 madminer.utils.ml.tr INFO               val. loss   0.65382 (improved_xe:  0.654)\n",
      "10:31 madminer.utils.ml.tr INFO    Epoch  95: train loss  0.65302 (improved_xe:  0.653)\n",
      "10:31 madminer.utils.ml.tr INFO               val. loss   0.65388 (improved_xe:  0.654)\n",
      "10:33 madminer.utils.ml.tr INFO    Epoch 100: train loss  0.65303 (improved_xe:  0.653)\n",
      "10:33 madminer.utils.ml.tr INFO               val. loss   0.65374 (improved_xe:  0.654)\n",
      "10:33 madminer.utils.ml.tr INFO    Early stopping after epoch 71, with loss  0.65369 compared to final loss  0.65374\n",
      "10:33 madminer.utils.ml.tr INFO    Training time spend on:\n",
      "10:33 madminer.utils.ml.tr INFO                      initialize model:   0.00h\n",
      "10:33 madminer.utils.ml.tr INFO                                   ALL:   0.70h\n",
      "10:33 madminer.utils.ml.tr INFO                            check data:   0.00h\n",
      "10:33 madminer.utils.ml.tr INFO                          make dataset:   0.00h\n",
      "10:33 madminer.utils.ml.tr INFO                       make dataloader:   0.00h\n",
      "10:33 madminer.utils.ml.tr INFO                       setup optimizer:   0.00h\n",
      "10:33 madminer.utils.ml.tr INFO                   initialize training:   0.00h\n",
      "10:33 madminer.utils.ml.tr INFO                                set lr:   0.00h\n",
      "10:33 madminer.utils.ml.tr INFO                   load training batch:   0.14h\n",
      "10:33 madminer.utils.ml.tr INFO                        fwd: move data:   0.06h\n",
      "10:33 madminer.utils.ml.tr INFO                   fwd: check for nans:   0.09h\n",
      "10:33 madminer.utils.ml.tr INFO                    fwd: model.forward:   0.08h\n",
      "10:33 madminer.utils.ml.tr INFO                 fwd: calculate losses:   0.06h\n",
      "10:33 madminer.utils.ml.tr INFO                 training forward pass:   0.21h\n",
      "10:33 madminer.utils.ml.tr INFO                   training sum losses:   0.01h\n",
      "10:33 madminer.utils.ml.tr INFO                        opt: zero grad:   0.01h\n",
      "10:33 madminer.utils.ml.tr INFO                         opt: backward:   0.07h\n",
      "10:33 madminer.utils.ml.tr INFO                   opt: clip grad norm:   0.00h\n",
      "10:33 madminer.utils.ml.tr INFO                             opt: step:   0.13h\n",
      "10:33 madminer.utils.ml.tr INFO                        optimizer step:   0.21h\n",
      "10:33 madminer.utils.ml.tr INFO                 load validation batch:   0.04h\n",
      "10:33 madminer.utils.ml.tr INFO               validation forward pass:   0.08h\n",
      "10:33 madminer.utils.ml.tr INFO                 validation sum losses:   0.00h\n",
      "10:33 madminer.utils.ml.tr INFO                        early stopping:   0.00h\n",
      "10:33 madminer.utils.ml.tr INFO                          report epoch:   0.00h\n",
      "10:33 madminer.ml          INFO    Saving model to models/alice_invm\n"
     ]
    }
   ],
   "source": [
    "invm_estimator = ParameterizedRatioEstimator(\n",
    "    n_hidden=(8,8,8),\n",
    ")\n",
    "\n",
    "invm = calculate_invariant_mass(x)\n",
    "\n",
    "train_loss, val_loss = invm_estimator.train(\n",
    "    method='alice',\n",
    "    theta=theta0,\n",
    "    x=invm,\n",
    "    y=y,\n",
    "    r_xz=r_xz,\n",
    "    initial_lr = .001,\n",
    "    final_lr = .00001,\n",
    "    batch_size = 128,\n",
    "    optimizer='amsgrad',\n",
    "    n_epochs=100,\n",
    "    limit_samplesize=1000000,\n",
    "    scale_parameters=True\n",
    ")\n",
    "    \n",
    "#invm_estimator.save('models/alice_invm')"
   ]
  },
  {
   "cell_type": "code",
   "execution_count": 11,
   "metadata": {},
   "outputs": [
    {
     "name": "stderr",
     "output_type": "stream",
     "text": [
      "18:01 madminer.ml          INFO    Loading model from models/alice_invm\n",
      "18:01 madminer.ml          INFO    Loading evaluation data\n",
      "18:01 madminer.ml          INFO    Starting ratio evaluation for 6760000 x-theta combinations\n",
      "18:02 madminer.ml          INFO    Evaluation done\n"
     ]
    }
   ],
   "source": [
    "invm_estimator = ParameterizedRatioEstimator(\n",
    "    n_hidden=(8,8,8),\n",
    ")\n",
    "invm_estimator.load('models/alice_invm')\n",
    "log_r_hat_invm, _ = invm_estimator.evaluate_log_likelihood_ratio(\n",
    "    theta=theta_grid,\n",
    "    x=calculate_invariant_mass(x_test),\n",
    "    evaluate_score=False,\n",
    "    test_all_combinations=True\n",
    ")"
   ]
  },
  {
   "cell_type": "code",
   "execution_count": 12,
   "metadata": {},
   "outputs": [
    {
     "data": {
      "image/png": "[encoded data removed]",
      "text/plain": [
       "<matplotlib.figure.Figure at 0x7f7474c9ccd0>"
      ]
     },
     "metadata": {
      "needs_background": "light"
     },
     "output_type": "display_data"
    }
   ],
   "source": [
    "pvals_invm = run_pseudoexperiments(log_r_hat_invm, theta_m.shape[0],theta_g.shape[0], n_test_events, n_experiments)\n",
    "\n",
    "fig = plt.figure(figsize=(20,10))\n",
    "ax = plt.gca()\n",
    "cmin, cmax = np.min(pvals_invm), np.max(pvals_invm)\n",
    "pcm = ax.pcolormesh(edges_m, edges_g, pvals_invm,\n",
    "                    norm=matplotlib.colors.Normalize(vmin=cmin, vmax=cmax),\n",
    "                    cmap='viridis')\n",
    "cbar = fig.colorbar(pcm, ax=ax, extend='both')\n",
    "\n",
    "plt.scatter(sampler.benchmarks[testing_theta_true]['mzp'], sampler.benchmarks[testing_theta_true]['gzp'], s=80., color='black', marker='x')\n",
    "\n",
    "plt.xlabel(r'$m$')\n",
    "plt.ylabel(r'$g$')\n",
    "cbar.set_label(r'$p$')\n",
    "\n",
    "plt.tight_layout()\n",
    "plt.show()"
   ]
  },
  {
   "cell_type": "markdown",
   "metadata": {},
   "source": [
    "We also show this result at lower resolution so that it can be directly compared to the histogram result."
   ]
  },
  {
   "cell_type": "code",
   "execution_count": 13,
   "metadata": {},
   "outputs": [
    {
     "name": "stderr",
     "output_type": "stream",
     "text": [
      "18:02 madminer.ml          INFO    Loading evaluation data\n",
      "18:02 madminer.ml          INFO    Starting ratio evaluation for 1210000 x-theta combinations\n",
      "18:02 madminer.ml          INFO    Evaluation done\n"
     ]
    },
    {
     "data": {
      "image/png": "[encoded data removed]",
      "text/plain": [
       "<matplotlib.figure.Figure at 0x7f747424b810>"
      ]
     },
     "metadata": {
      "needs_background": "light"
     },
     "output_type": "display_data"
    }
   ],
   "source": [
    "log_r_hat_invm_lowres, _ = invm_estimator.evaluate_log_likelihood_ratio(\n",
    "    theta=theta_grid_lowres,\n",
    "    x=calculate_invariant_mass(x_test),\n",
    "    evaluate_score=False,\n",
    "    test_all_combinations=True\n",
    ")\n",
    "\n",
    "pvals_invm_lowres = run_pseudoexperiments(log_r_hat_invm_lowres, theta_m_lowres.shape[0],theta_g_lowres.shape[0], n_test_events, n_experiments)\n",
    "\n",
    "fig = plt.figure(figsize=(20,10))\n",
    "ax = plt.gca()\n",
    "cmin, cmax = np.min(pvals_invm_lowres), np.max(pvals_invm_lowres)\n",
    "pcm = ax.pcolormesh(edges_m_lowres, edges_g_lowres, pvals_invm_lowres,\n",
    "                    norm=matplotlib.colors.Normalize(vmin=cmin, vmax=cmax),\n",
    "                    cmap='viridis')\n",
    "cbar = fig.colorbar(pcm, ax=ax, extend='both')\n",
    "\n",
    "plt.scatter(sampler.benchmarks[testing_theta_true]['mzp'], sampler.benchmarks[testing_theta_true]['gzp'], s=80., color='black', marker='x')\n",
    "\n",
    "plt.xlabel(r'$m$')\n",
    "plt.ylabel(r'$g$')\n",
    "cbar.set_label(r'$p$')\n",
    "\n",
    "plt.tight_layout()\n",
    "plt.savefig('figures/invm_ALICE_pvals.png', format='png')\n",
    "#plt.savefig('figures/invm_ALICE_pvals.svg', format='svg')\n",
    "plt.show()"
   ]
  },
  {
   "cell_type": "markdown",
   "metadata": {},
   "source": [
    "## ALICE result on invariant mass + $\\Delta y_{jj}$"
   ]
  },
  {
   "cell_type": "markdown",
   "metadata": {},
   "source": [
    "We discover that the extra information is held in $\\Delta y_{jj}$ by repeating the invariant mass analysis with $\\Delta y_{jj}$ added to the input."
   ]
  },
  {
   "cell_type": "code",
   "execution_count": 39,
   "metadata": {},
   "outputs": [],
   "source": [
    "twod_estimator = ParameterizedRatioEstimator(\n",
    "    n_hidden=(8,8,8),\n",
    ")\n",
    "x_twod =twod_data(x)\n",
    "\n",
    "train_loss, val_loss = twod_estimator.train(\n",
    "    method='alice',\n",
    "    theta=theta0,\n",
    "    x=x_twod,\n",
    "    y=y,\n",
    "    r_xz=r_xz,\n",
    "    initial_lr = .0023,\n",
    "    final_lr = .00004,\n",
    "    batch_size = 128,\n",
    "    optimizer='amsgrad',\n",
    "    n_epochs=100,\n",
    "    limit_samplesize=1000000,\n",
    "    scale_parameters=True\n",
    ")\n",
    "    \n",
    "#twod_estimator.save('models/alice_twod')"
   ]
  },
  {
   "cell_type": "code",
   "execution_count": 14,
   "metadata": {},
   "outputs": [
    {
     "name": "stderr",
     "output_type": "stream",
     "text": [
      "18:02 madminer.ml          INFO    Loading model from models/alice_twod\n",
      "18:02 madminer.ml          INFO    Loading evaluation data\n",
      "18:02 madminer.ml          INFO    Starting ratio evaluation for 6760000 x-theta combinations\n",
      "18:04 madminer.ml          INFO    Evaluation done\n"
     ]
    }
   ],
   "source": [
    "twod_estimator = ParameterizedRatioEstimator(\n",
    "    n_hidden=(8,8,8),\n",
    ")\n",
    "twod_estimator.load('models/alice_twod')\n",
    "\n",
    "log_r_hat_twod, _ = twod_estimator.evaluate_log_likelihood_ratio(\n",
    "    theta=theta_grid,\n",
    "    x=twod_data(x_test),\n",
    "    evaluate_score=False,\n",
    "    test_all_combinations=True\n",
    ")"
   ]
  },
  {
   "cell_type": "code",
   "execution_count": 15,
   "metadata": {},
   "outputs": [
    {
     "data": {
      "image/png": "[encoded data removed]",
      "text/plain": [
       "<matplotlib.figure.Figure at 0x7f74738fcd90>"
      ]
     },
     "metadata": {
      "needs_background": "light"
     },
     "output_type": "display_data"
    }
   ],
   "source": [
    "pvals_twod = run_pseudoexperiments(log_r_hat_twod, theta_m.shape[0],theta_g.shape[0], n_test_events, n_experiments)\n",
    "\n",
    "fig = plt.figure(figsize=(20,10))\n",
    "ax = plt.gca()\n",
    "\n",
    "cmin, cmax = np.min(pvals_twod), np.max(pvals_twod)\n",
    "pcm_twod = ax.pcolormesh(edges_m, edges_g, pvals_twod,\n",
    "                    norm=matplotlib.colors.Normalize(vmin=cmin, vmax=cmax),\n",
    "                    cmap='viridis')\n",
    "cbar = fig.colorbar(pcm_twod, ax=ax, extend='both')\n",
    "\n",
    "plt.scatter(sampler.benchmarks[testing_theta_true]['mzp'], sampler.benchmarks[testing_theta_true]['gzp'], s=80., color='black', marker='x')\n",
    "plt.rcParams.update({'font.size': 32})\n",
    "plt.xlabel(r\"$m_{Z'}$ (GeV)\")\n",
    "plt.ylabel(r\"$g_{Z'}$\")\n",
    "cbar.set_label(r'$p$')\n",
    "\n",
    "plt.tight_layout()\n",
    "plt.savefig('figures/2D_ALICE_pvals.png', format='png')\n",
    "#plt.savefig('figures/2D_ALICE_pvals.svg', format='svg')\n",
    "plt.show()"
   ]
  },
  {
   "cell_type": "markdown",
   "metadata": {},
   "source": [
    "## Exclusion Contour Comparison"
   ]
  },
  {
   "cell_type": "markdown",
   "metadata": {},
   "source": [
    "We plot the 1$\\sigma$ and 2$\\sigma$ exlclusion contours for all likelihood ratios found so far."
   ]
  },
  {
   "cell_type": "code",
   "execution_count": 16,
   "metadata": {},
   "outputs": [
    {
     "data": {
      "image/png": "[encoded data removed]",
      "text/plain": [
       "<matplotlib.figure.Figure at 0x7f7477de7a10>"
      ]
     },
     "metadata": {
      "needs_background": "light"
     },
     "output_type": "display_data"
    }
   ],
   "source": [
    "pvals_oned = pvals_invm\n",
    "pvals_twod = pvals_twod\n",
    "pvals_eightd = pvals\n",
    "\n",
    "XX,YY = np.meshgrid(edges_m[1:],edges_g[1:])\n",
    "exclusion_contours_eightd = 1-pvals_eightd\n",
    "exclusion_contours_twod = 1-pvals_twod\n",
    "exclusion_contours_oned = 1-pvals_oned\n",
    "\n",
    "fig = plt.figure(figsize=(20,10))\n",
    "ax = plt.gca()\n",
    "\n",
    "cntr1=plt.contour(XX,YY,exclusion_contours_eightd, levels=[0.682689492137086], colors='C0',linewidths=4, label= r'x - $1\\sigma$' )\n",
    "cntr2=plt.contour(XX,YY,exclusion_contours_twod, levels=[0.682689492137086], colors='C2', linewidths=4, label= r'$m_{jj}$ - $1\\sigma$' )\n",
    "cntr3=plt.contour(XX,YY,exclusion_contours_oned, levels=[0.682689492137086], colors='C4', linewidths=4, label= r'$m_{jj}$ - $1\\sigma$' )\n",
    "\n",
    "cntr4=plt.contour(XX,YY,exclusion_contours_eightd, levels=[0.954499736103642], colors='C0',linewidths=4, linestyles='dashed', label= r'x - $3\\sigma$'  )\n",
    "cntr5=plt.contour(XX,YY,exclusion_contours_twod, levels=[0.954499736103642], colors='C2', linewidths=4, linestyles='dashed', label= r'$m_{jj}$ - $3\\sigma$' )\n",
    "cntr6=plt.contour(XX,YY,exclusion_contours_oned, levels=[0.954499736103642], colors='C4', linewidths=4, linestyles='dashed', label= r'$m_{jj}$ - $3\\sigma$' )\n",
    "h1,_ = cntr1.legend_elements()\n",
    "h2,_ = cntr2.legend_elements()\n",
    "h3,_ = cntr3.legend_elements()\n",
    "h4,_ = cntr4.legend_elements()\n",
    "h5,_ = cntr5.legend_elements()\n",
    "h6,_ = cntr6.legend_elements()\n",
    "ax.legend([h1[0], h2[0],h3[0], h4[0], h5[0], h6[0]], [r'ML(8D) - $1\\sigma$', r'ML(2D) - $1\\sigma$' ,r'ML(1D) - $1\\sigma$', r'ML(8D) - $2\\sigma$', r'ML(2D) - $2\\sigma$', r'ML(1D) - $2\\sigma$'], loc='lower right',handleheight=1.2, labelspacing=.05, ncol=2)\n",
    "\n",
    "\n",
    "plt.scatter(sampler.benchmarks[testing_theta_true]['mzp'], sampler.benchmarks[testing_theta_true]['gzp'], s=2000., color='black', marker='x')\n",
    "plt.rcParams.update({'font.size': 32})\n",
    "plt.xlabel(r\"$m_{Z'}$ (GeV)\")\n",
    "plt.ylabel(r\"$g_{Z'}$\")\n",
    "cbar.set_label(r'$p$')\n",
    "\n",
    "plt.tight_layout()\n",
    "plt.savefig('figures/exclusion_contours_comparison.png', format='png')\n",
    "#plt.savefig('figures/exclusion_contours_comparison.svg', format='svg')\n",
    "plt.show()"
   ]
  },
  {
   "cell_type": "markdown",
   "metadata": {},
   "source": [
    "Mess"
   ]
  },
  {
   "cell_type": "code",
   "execution_count": 59,
   "metadata": {},
   "outputs": [
    {
     "name": "stderr",
     "output_type": "stream",
     "text": [
      "19:49 madminer.ml          INFO    Loading evaluation data\n",
      "19:49 madminer.ml          INFO    Starting ratio evaluation\n",
      "19:49 madminer.ml          INFO    Evaluation done\n"
     ]
    }
   ],
   "source": [
    "log_r_hat_train, _ = estimator.evaluate_log_likelihood_ratio(\n",
    "    theta=theta0,\n",
    "    x=x,\n",
    "    evaluate_score=False,\n",
    "    test_all_combinations=False\n",
    ")"
   ]
  },
  {
   "cell_type": "code",
   "execution_count": 70,
   "metadata": {},
   "outputs": [
    {
     "name": "stderr",
     "output_type": "stream",
     "text": [
      "20:00 madminer.ml          INFO    Loading evaluation data\n",
      "20:00 madminer.ml          INFO    Starting ratio evaluation for 100 x-theta combinations\n",
      "20:00 madminer.ml          INFO    Evaluation done\n",
      "20:00 madminer.ml          INFO    Loading evaluation data\n",
      "20:00 madminer.ml          INFO    Starting ratio evaluation for 100 x-theta combinations\n",
      "20:00 madminer.ml          INFO    Evaluation done\n",
      "20:00 madminer.ml          INFO    Loading evaluation data\n",
      "20:00 madminer.ml          INFO    Starting ratio evaluation for 100 x-theta combinations\n",
      "20:00 madminer.ml          INFO    Evaluation done\n",
      "20:00 madminer.ml          INFO    Loading evaluation data\n",
      "20:00 madminer.ml          INFO    Starting ratio evaluation for 100 x-theta combinations\n",
      "20:00 madminer.ml          INFO    Evaluation done\n",
      "20:00 madminer.ml          INFO    Loading evaluation data\n",
      "20:00 madminer.ml          INFO    Starting ratio evaluation for 100 x-theta combinations\n",
      "20:00 madminer.ml          INFO    Evaluation done\n",
      "20:00 madminer.ml          INFO    Loading evaluation data\n",
      "20:00 madminer.ml          INFO    Starting ratio evaluation for 100 x-theta combinations\n",
      "20:00 madminer.ml          INFO    Evaluation done\n",
      "20:00 madminer.ml          INFO    Loading evaluation data\n",
      "20:00 madminer.ml          INFO    Starting ratio evaluation for 100 x-theta combinations\n",
      "20:00 madminer.ml          INFO    Evaluation done\n",
      "20:00 madminer.ml          INFO    Loading evaluation data\n",
      "20:00 madminer.ml          INFO    Starting ratio evaluation for 100 x-theta combinations\n",
      "20:00 madminer.ml          INFO    Evaluation done\n",
      "20:00 madminer.ml          INFO    Loading evaluation data\n",
      "20:00 madminer.ml          INFO    Starting ratio evaluation for 100 x-theta combinations\n",
      "20:00 madminer.ml          INFO    Evaluation done\n"
     ]
    },
    {
     "name": "stdout",
     "output_type": "stream",
     "text": [
      "((50, 8), (181808, 8))\n",
      "((50, 8), (90904, 8))\n",
      "((50, 8), (90904, 8))\n",
      "((50, 8), (90904, 8))\n",
      "((50, 8), (90904, 8))\n",
      "((50, 8), (90904, 8))\n",
      "((50, 8), (90904, 8))\n",
      "((50, 8), (90904, 8))\n",
      "((50, 8), (90904, 8))\n"
     ]
    },
    {
     "name": "stderr",
     "output_type": "stream",
     "text": [
      "20:00 madminer.ml          INFO    Loading evaluation data\n",
      "20:00 madminer.ml          INFO    Starting ratio evaluation for 100 x-theta combinations\n",
      "20:00 madminer.ml          INFO    Evaluation done\n",
      "20:00 madminer.ml          INFO    Loading evaluation data\n",
      "20:00 madminer.ml          INFO    Starting ratio evaluation for 100 x-theta combinations\n",
      "20:00 madminer.ml          INFO    Evaluation done\n",
      "20:00 madminer.ml          INFO    Loading evaluation data\n",
      "20:00 madminer.ml          INFO    Starting ratio evaluation for 100 x-theta combinations\n",
      "20:00 madminer.ml          INFO    Evaluation done\n",
      "20:00 madminer.ml          INFO    Loading evaluation data\n",
      "20:00 madminer.ml          INFO    Starting ratio evaluation for 100 x-theta combinations\n",
      "20:00 madminer.ml          INFO    Evaluation done\n",
      "20:00 madminer.ml          INFO    Loading evaluation data\n",
      "20:00 madminer.ml          INFO    Starting ratio evaluation for 100 x-theta combinations\n",
      "20:00 madminer.ml          INFO    Evaluation done\n",
      "20:00 madminer.ml          INFO    Loading evaluation data\n",
      "20:00 madminer.ml          INFO    Starting ratio evaluation for 100 x-theta combinations\n",
      "20:00 madminer.ml          INFO    Evaluation done\n",
      "20:00 madminer.ml          INFO    Loading evaluation data\n",
      "20:00 madminer.ml          INFO    Starting ratio evaluation for 100 x-theta combinations\n",
      "20:00 madminer.ml          INFO    Evaluation done\n",
      "20:00 madminer.ml          INFO    Loading evaluation data\n",
      "20:00 madminer.ml          INFO    Starting ratio evaluation for 100 x-theta combinations\n",
      "20:00 madminer.ml          INFO    Evaluation done\n",
      "20:00 madminer.ml          INFO    Loading evaluation data\n",
      "20:00 madminer.ml          INFO    Starting ratio evaluation for 100 x-theta combinations\n",
      "20:00 madminer.ml          INFO    Evaluation done\n"
     ]
    },
    {
     "name": "stdout",
     "output_type": "stream",
     "text": [
      "((50, 8), (90904, 8))\n",
      "((50, 8), (90904, 8))\n",
      "((50, 8), (90904, 8))\n",
      "((50, 8), (90904, 8))\n",
      "((50, 8), (90904, 8))\n",
      "((50, 8), (90904, 8))\n",
      "((50, 8), (90904, 8))\n",
      "((50, 8), (90904, 8))\n",
      "((50, 8), (90904, 8))\n"
     ]
    },
    {
     "name": "stderr",
     "output_type": "stream",
     "text": [
      "20:00 madminer.ml          INFO    Loading evaluation data\n",
      "20:00 madminer.ml          INFO    Starting ratio evaluation for 100 x-theta combinations\n",
      "20:00 madminer.ml          INFO    Evaluation done\n",
      "20:00 madminer.ml          INFO    Loading evaluation data\n",
      "20:00 madminer.ml          INFO    Starting ratio evaluation for 100 x-theta combinations\n",
      "20:00 madminer.ml          INFO    Evaluation done\n",
      "20:00 madminer.ml          INFO    Loading evaluation data\n",
      "20:00 madminer.ml          INFO    Starting ratio evaluation for 100 x-theta combinations\n",
      "20:00 madminer.ml          INFO    Evaluation done\n",
      "20:00 madminer.ml          INFO    Loading evaluation data\n",
      "20:00 madminer.ml          INFO    Starting ratio evaluation for 100 x-theta combinations\n",
      "20:00 madminer.ml          INFO    Evaluation done\n",
      "20:00 madminer.ml          INFO    Loading evaluation data\n",
      "20:00 madminer.ml          INFO    Starting ratio evaluation for 100 x-theta combinations\n",
      "20:00 madminer.ml          INFO    Evaluation done\n",
      "20:00 madminer.ml          INFO    Loading evaluation data\n",
      "20:00 madminer.ml          INFO    Starting ratio evaluation for 100 x-theta combinations\n",
      "20:00 madminer.ml          INFO    Evaluation done\n",
      "20:00 madminer.ml          INFO    Loading evaluation data\n",
      "20:00 madminer.ml          INFO    Starting ratio evaluation for 100 x-theta combinations\n",
      "20:00 madminer.ml          INFO    Evaluation done\n",
      "20:00 madminer.ml          INFO    Loading evaluation data\n",
      "20:00 madminer.ml          INFO    Starting ratio evaluation for 100 x-theta combinations\n",
      "20:00 madminer.ml          INFO    Evaluation done\n",
      "20:00 madminer.ml          INFO    Loading evaluation data\n",
      "20:00 madminer.ml          INFO    Starting ratio evaluation for 100 x-theta combinations\n"
     ]
    },
    {
     "name": "stdout",
     "output_type": "stream",
     "text": [
      "((50, 8), (90904, 8))\n",
      "((50, 8), (90904, 8))\n",
      "((50, 8), (90904, 8))\n",
      "((50, 8), (90904, 8))\n",
      "((50, 8), (90904, 8))\n",
      "((50, 8), (90904, 8))\n",
      "((50, 8), (90904, 8))\n",
      "((50, 8), (181808, 8))\n",
      "((50, 8), (90904, 8))\n"
     ]
    },
    {
     "name": "stderr",
     "output_type": "stream",
     "text": [
      "20:00 madminer.ml          INFO    Evaluation done\n"
     ]
    },
    {
     "ename": "ValueError",
     "evalue": "a must be greater than 0",
     "output_type": "error",
     "traceback": [
      "\u001b[0;31m---------------------------------------------------------------------------\u001b[0m",
      "\u001b[0;31mValueError\u001b[0m                                Traceback (most recent call last)",
      "\u001b[0;32m<ipython-input-70-53d95237c30a>\u001b[0m in \u001b[0;36m<module>\u001b[0;34m()\u001b[0m\n\u001b[1;32m     17\u001b[0m     \u001b[0;32mreturn\u001b[0m \u001b[0mf_t_theta\u001b[0m\u001b[0;34m\u001b[0m\u001b[0;34m\u001b[0m\u001b[0m\n\u001b[1;32m     18\u001b[0m \u001b[0;34m\u001b[0m\u001b[0m\n\u001b[0;32m---> 19\u001b[0;31m \u001b[0mf_t_theta\u001b[0m \u001b[0;34m=\u001b[0m \u001b[0mrun_pseudoexperiments_test\u001b[0m\u001b[0;34m(\u001b[0m\u001b[0mtheta0\u001b[0m\u001b[0;34m,\u001b[0m \u001b[0mx\u001b[0m\u001b[0;34m,\u001b[0m \u001b[0mlog_r_hat\u001b[0m\u001b[0;34m,\u001b[0m \u001b[0mtheta_m\u001b[0m\u001b[0;34m,\u001b[0m \u001b[0mtheta_g\u001b[0m\u001b[0;34m,\u001b[0m\u001b[0;36m50\u001b[0m\u001b[0;34m,\u001b[0m\u001b[0;36m500\u001b[0m\u001b[0;34m)\u001b[0m\u001b[0;34m\u001b[0m\u001b[0;34m\u001b[0m\u001b[0m\n\u001b[0m",
      "\u001b[0;32m<ipython-input-70-53d95237c30a>\u001b[0m in \u001b[0;36mrun_pseudoexperiments_test\u001b[0;34m(theta0, x_train, log_likelihood_ratio_test, theta_x, theta_y, N, num_experiments)\u001b[0m\n\u001b[1;32m     10\u001b[0m                 \u001b[0mg\u001b[0m \u001b[0;34m=\u001b[0m \u001b[0mtheta_g\u001b[0m\u001b[0;34m[\u001b[0m\u001b[0mj\u001b[0m\u001b[0;34m]\u001b[0m\u001b[0;34m\u001b[0m\u001b[0;34m\u001b[0m\u001b[0m\n\u001b[1;32m     11\u001b[0m                 \u001b[0mx_from_theta\u001b[0m \u001b[0;34m=\u001b[0m \u001b[0mx_train\u001b[0m\u001b[0;34m[\u001b[0m\u001b[0mnp\u001b[0m\u001b[0;34m.\u001b[0m\u001b[0mwhere\u001b[0m\u001b[0;34m(\u001b[0m\u001b[0mtheta0\u001b[0m \u001b[0;34m==\u001b[0m \u001b[0mnp\u001b[0m\u001b[0;34m.\u001b[0m\u001b[0marray\u001b[0m\u001b[0;34m(\u001b[0m\u001b[0;34m[\u001b[0m\u001b[0mm\u001b[0m\u001b[0;34m,\u001b[0m\u001b[0mg\u001b[0m\u001b[0;34m]\u001b[0m\u001b[0;34m)\u001b[0m\u001b[0;34m)\u001b[0m\u001b[0;34m[\u001b[0m\u001b[0;36m0\u001b[0m\u001b[0;34m]\u001b[0m\u001b[0;34m]\u001b[0m\u001b[0;34m\u001b[0m\u001b[0;34m\u001b[0m\u001b[0m\n\u001b[0;32m---> 12\u001b[0;31m                 \u001b[0mx_pseudo\u001b[0m \u001b[0;34m=\u001b[0m \u001b[0mx_from_theta\u001b[0m\u001b[0;34m[\u001b[0m\u001b[0mnp\u001b[0m\u001b[0;34m.\u001b[0m\u001b[0mrandom\u001b[0m\u001b[0;34m.\u001b[0m\u001b[0mchoice\u001b[0m\u001b[0;34m(\u001b[0m\u001b[0mx_from_theta\u001b[0m\u001b[0;34m.\u001b[0m\u001b[0mshape\u001b[0m\u001b[0;34m[\u001b[0m\u001b[0;36m0\u001b[0m\u001b[0;34m]\u001b[0m\u001b[0;34m,\u001b[0m\u001b[0mN\u001b[0m\u001b[0;34m)\u001b[0m\u001b[0;34m]\u001b[0m\u001b[0;34m\u001b[0m\u001b[0;34m\u001b[0m\u001b[0m\n\u001b[0m\u001b[1;32m     13\u001b[0m                 \u001b[0;32mprint\u001b[0m\u001b[0;34m(\u001b[0m\u001b[0mx_pseudo\u001b[0m\u001b[0;34m.\u001b[0m\u001b[0mshape\u001b[0m\u001b[0;34m,\u001b[0m \u001b[0mx_from_theta\u001b[0m\u001b[0;34m.\u001b[0m\u001b[0mshape\u001b[0m\u001b[0;34m)\u001b[0m\u001b[0;34m\u001b[0m\u001b[0;34m\u001b[0m\u001b[0m\n\u001b[1;32m     14\u001b[0m                 \u001b[0mlog_r_hat_pseudo\u001b[0m\u001b[0;34m,\u001b[0m \u001b[0m_\u001b[0m \u001b[0;34m=\u001b[0m \u001b[0mestimator\u001b[0m\u001b[0;34m.\u001b[0m\u001b[0mevaluate_log_likelihood_ratio\u001b[0m\u001b[0;34m(\u001b[0m\u001b[0mtheta\u001b[0m\u001b[0;34m=\u001b[0m\u001b[0mnp\u001b[0m\u001b[0;34m.\u001b[0m\u001b[0marray\u001b[0m\u001b[0;34m(\u001b[0m\u001b[0;34m[\u001b[0m\u001b[0mm\u001b[0m\u001b[0;34m,\u001b[0m\u001b[0mg\u001b[0m\u001b[0;34m]\u001b[0m\u001b[0;34m)\u001b[0m\u001b[0;34m,\u001b[0m \u001b[0mx\u001b[0m\u001b[0;34m=\u001b[0m\u001b[0mx_pseudo\u001b[0m\u001b[0;34m,\u001b[0m \u001b[0mevaluate_score\u001b[0m\u001b[0;34m=\u001b[0m\u001b[0mFalse\u001b[0m\u001b[0;34m,\u001b[0m \u001b[0mtest_all_combinations\u001b[0m\u001b[0;34m=\u001b[0m\u001b[0mTrue\u001b[0m\u001b[0;34m)\u001b[0m\u001b[0;34m\u001b[0m\u001b[0;34m\u001b[0m\u001b[0m\n",
      "\u001b[0;32mmtrand.pyx\u001b[0m in \u001b[0;36mmtrand.RandomState.choice\u001b[0;34m()\u001b[0m\n",
      "\u001b[0;31mValueError\u001b[0m: a must be greater than 0"
     ]
    }
   ],
   "source": [
    "def run_pseudoexperiments_test(theta0, x_train, log_likelihood_ratio_test, theta_x, theta_y, N, num_experiments):\n",
    "    \"\"\"Calculates expected p-values for subset of test set containing N events using num_experiments trials.\"\"\"\n",
    "    x_length = theta_x.shape[0]\n",
    "    y_length = theta_y.shape[0]\n",
    "    f_t_theta = np.zeros((x_length, y_length, num_experiments))\n",
    "    for k in range(num_experiments):\n",
    "        for i in range(x_length):\n",
    "            for j in range(y_length):\n",
    "                m = theta_m[i]\n",
    "                g = theta_g[j]\n",
    "                x_from_theta = x_train[np.where(theta0 == np.array([m,g]))[0]]\n",
    "                x_pseudo = x_from_theta[np.random.choice(x_from_theta.shape[0],N)]\n",
    "                print(x_pseudo.shape, x_from_theta.shape)\n",
    "                log_r_hat_pseudo, _ = estimator.evaluate_log_likelihood_ratio(theta=np.array([m,g]), x=x_pseudo, evaluate_score=False, test_all_combinations=True)\n",
    "                t_pseudo = -2 * (log_r_hat_pseudo - np.amax(log_r_hat_pseudo))\n",
    "                f_t_theta[i,j,k] = t_pseudo[i,j]\n",
    "    return f_t_theta\n",
    "\n",
    "f_t_theta = run_pseudoexperiments_test(theta0, x, log_r_hat, theta_m, theta_g,50,500)"
   ]
  },
  {
   "cell_type": "code",
   "execution_count": null,
   "metadata": {},
   "outputs": [],
   "source": []
  }
 ],
 "metadata": {
  "kernelspec": {
   "display_name": "tfenv",
   "language": "python",
   "name": "tfenv"
  },
  "language_info": {
   "codemirror_mode": {
    "name": "ipython",
    "version": 2
   },
   "file_extension": ".py",
   "mimetype": "text/x-python",
   "name": "python",
   "nbconvert_exporter": "python",
   "pygments_lexer": "ipython2",
   "version": "2.7.15rc1"
  }
 },
 "nbformat": 4,
 "nbformat_minor": 4
}
