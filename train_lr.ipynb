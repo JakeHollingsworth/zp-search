{
 "cells": [
  {
   "cell_type": "markdown",
   "metadata": {},
   "source": [
    "# Train Likelihood Ratio Estimator "
   ]
  },
  {
   "cell_type": "code",
   "execution_count": 2,
   "metadata": {},
   "outputs": [],
   "source": [
    "from __future__ import absolute_import, division, print_function, unicode_literals\n",
    "\n",
    "import logging\n",
    "import numpy as np\n",
    "import matplotlib\n",
    "from matplotlib import pyplot as plt\n",
    "%matplotlib inline\n",
    "\n",
    "from madminer.core import MadMiner\n",
    "from madminer.sampling import SampleAugmenter\n",
    "from madminer import sampling\n",
    "from madminer.ml import ParameterizedRatioEstimator\n",
    "\n",
    "# MadMiner output\n",
    "logging.basicConfig(\n",
    "    format='%(asctime)-5.5s %(name)-20.20s %(levelname)-7.7s %(message)s',\n",
    "    datefmt='%H:%M',\n",
    "    level=logging.INFO\n",
    ")\n",
    "\n",
    "# Output of all other modules (e.g. matplotlib)\n",
    "for key in logging.Logger.manager.loggerDict:\n",
    "    if \"madminer\" not in key:\n",
    "        logging.getLogger(key).setLevel(logging.DEBUG)"
   ]
  },
  {
   "cell_type": "markdown",
   "metadata": {},
   "source": [
    "## Prepare Training and Testing Datasets"
   ]
  },
  {
   "cell_type": "code",
   "execution_count": 8,
   "metadata": {
    "scrolled": false
   },
   "outputs": [
    {
     "name": "stderr",
     "output_type": "stream",
     "text": [
      "19:44 madminer.analysis    INFO    Loading data from meta/delphes_data_shuffled_g02.h5\n",
      "19:44 madminer.analysis    INFO    Found 2 parameters\n",
      "19:44 madminer.analysis    INFO    Did not find nuisance parameters\n",
      "19:44 madminer.analysis    INFO    Found 121 benchmarks, of which 121 physical\n",
      "19:44 madminer.analysis    INFO    Found 8 observables\n",
      "19:44 madminer.analysis    INFO    Found 649198 events\n",
      "19:44 madminer.analysis    INFO    Did not find morphing setup.\n",
      "19:44 madminer.analysis    INFO    Did not find nuisance morphing setup\n",
      "19:44 madminer.core        INFO    Found 2 parameters:\n",
      "19:44 madminer.core        INFO       mzp (LHA: mass 56, maximal power in squared ME: (0,), range: (275.0, 325.0))\n",
      "19:44 madminer.core        INFO       gzp (LHA: dminputs 2, maximal power in squared ME: (0,), range: (0.0, 2.0))\n",
      "19:44 madminer.core        INFO    Found 121 benchmarks:\n",
      "19:44 madminer.core        INFO       benchmark_0: mzp = 2.75e+02, gzp = 0.00e+00\n",
      "19:44 madminer.core        INFO       benchmark_1: mzp = 2.75e+02, gzp = 0.20\n",
      "19:44 madminer.core        INFO       benchmark_2: mzp = 2.75e+02, gzp = 0.40\n",
      "19:44 madminer.core        INFO       benchmark_3: mzp = 2.75e+02, gzp = 0.60\n",
      "19:44 madminer.core        INFO       benchmark_4: mzp = 2.75e+02, gzp = 0.80\n",
      "19:44 madminer.core        INFO       benchmark_5: mzp = 2.75e+02, gzp = 1.00\n",
      "19:44 madminer.core        INFO       benchmark_6: mzp = 2.75e+02, gzp = 1.20\n",
      "19:44 madminer.core        INFO       benchmark_7: mzp = 2.75e+02, gzp = 1.40\n",
      "19:44 madminer.core        INFO       benchmark_8: mzp = 2.75e+02, gzp = 1.60\n",
      "19:44 madminer.core        INFO       benchmark_9: mzp = 2.75e+02, gzp = 1.80\n",
      "19:44 madminer.core        INFO       benchmark_10: mzp = 2.75e+02, gzp = 2.00\n",
      "19:44 madminer.core        INFO       benchmark_11: mzp = 2.80e+02, gzp = 0.00e+00\n",
      "19:44 madminer.core        INFO       benchmark_12: mzp = 2.80e+02, gzp = 0.20\n",
      "19:44 madminer.core        INFO       benchmark_13: mzp = 2.80e+02, gzp = 0.40\n",
      "19:44 madminer.core        INFO       benchmark_14: mzp = 2.80e+02, gzp = 0.60\n",
      "19:44 madminer.core        INFO       benchmark_15: mzp = 2.80e+02, gzp = 0.80\n",
      "19:44 madminer.core        INFO       benchmark_16: mzp = 2.80e+02, gzp = 1.00\n",
      "19:44 madminer.core        INFO       benchmark_17: mzp = 2.80e+02, gzp = 1.20\n",
      "19:44 madminer.core        INFO       benchmark_18: mzp = 2.80e+02, gzp = 1.40\n",
      "19:44 madminer.core        INFO       benchmark_19: mzp = 2.80e+02, gzp = 1.60\n",
      "19:44 madminer.core        INFO       benchmark_20: mzp = 2.80e+02, gzp = 1.80\n",
      "19:44 madminer.core        INFO       benchmark_21: mzp = 2.80e+02, gzp = 2.00\n",
      "19:44 madminer.core        INFO       benchmark_22: mzp = 2.85e+02, gzp = 0.00e+00\n",
      "19:44 madminer.core        INFO       benchmark_23: mzp = 2.85e+02, gzp = 0.20\n",
      "19:44 madminer.core        INFO       benchmark_24: mzp = 2.85e+02, gzp = 0.40\n",
      "19:44 madminer.core        INFO       benchmark_25: mzp = 2.85e+02, gzp = 0.60\n",
      "19:44 madminer.core        INFO       benchmark_26: mzp = 2.85e+02, gzp = 0.80\n",
      "19:44 madminer.core        INFO       benchmark_27: mzp = 2.85e+02, gzp = 1.00\n",
      "19:44 madminer.core        INFO       benchmark_28: mzp = 2.85e+02, gzp = 1.20\n",
      "19:44 madminer.core        INFO       benchmark_29: mzp = 2.85e+02, gzp = 1.40\n",
      "19:44 madminer.core        INFO       benchmark_30: mzp = 2.85e+02, gzp = 1.60\n",
      "19:44 madminer.core        INFO       benchmark_31: mzp = 2.85e+02, gzp = 1.80\n",
      "19:44 madminer.core        INFO       benchmark_32: mzp = 2.85e+02, gzp = 2.00\n",
      "19:44 madminer.core        INFO       benchmark_33: mzp = 2.90e+02, gzp = 0.00e+00\n",
      "19:44 madminer.core        INFO       benchmark_34: mzp = 2.90e+02, gzp = 0.20\n",
      "19:44 madminer.core        INFO       benchmark_35: mzp = 2.90e+02, gzp = 0.40\n",
      "19:44 madminer.core        INFO       benchmark_36: mzp = 2.90e+02, gzp = 0.60\n",
      "19:44 madminer.core        INFO       benchmark_37: mzp = 2.90e+02, gzp = 0.80\n",
      "19:44 madminer.core        INFO       benchmark_38: mzp = 2.90e+02, gzp = 1.00\n",
      "19:44 madminer.core        INFO       benchmark_39: mzp = 2.90e+02, gzp = 1.20\n",
      "19:44 madminer.core        INFO       benchmark_40: mzp = 2.90e+02, gzp = 1.40\n",
      "19:44 madminer.core        INFO       benchmark_41: mzp = 2.90e+02, gzp = 1.60\n",
      "19:44 madminer.core        INFO       benchmark_42: mzp = 2.90e+02, gzp = 1.80\n",
      "19:44 madminer.core        INFO       benchmark_43: mzp = 2.90e+02, gzp = 2.00\n",
      "19:44 madminer.core        INFO       benchmark_44: mzp = 2.95e+02, gzp = 0.00e+00\n",
      "19:44 madminer.core        INFO       benchmark_45: mzp = 2.95e+02, gzp = 0.20\n",
      "19:44 madminer.core        INFO       benchmark_46: mzp = 2.95e+02, gzp = 0.40\n",
      "19:44 madminer.core        INFO       benchmark_47: mzp = 2.95e+02, gzp = 0.60\n",
      "19:44 madminer.core        INFO       benchmark_48: mzp = 2.95e+02, gzp = 0.80\n",
      "19:44 madminer.core        INFO       benchmark_49: mzp = 2.95e+02, gzp = 1.00\n",
      "19:44 madminer.core        INFO       benchmark_50: mzp = 2.95e+02, gzp = 1.20\n",
      "19:44 madminer.core        INFO       benchmark_51: mzp = 2.95e+02, gzp = 1.40\n",
      "19:44 madminer.core        INFO       benchmark_52: mzp = 2.95e+02, gzp = 1.60\n",
      "19:44 madminer.core        INFO       benchmark_53: mzp = 2.95e+02, gzp = 1.80\n",
      "19:44 madminer.core        INFO       benchmark_54: mzp = 2.95e+02, gzp = 2.00\n",
      "19:44 madminer.core        INFO       benchmark_55: mzp = 3.00e+02, gzp = 0.00e+00\n",
      "19:44 madminer.core        INFO       benchmark_56: mzp = 3.00e+02, gzp = 0.20\n",
      "19:44 madminer.core        INFO       benchmark_57: mzp = 3.00e+02, gzp = 0.40\n",
      "19:44 madminer.core        INFO       benchmark_58: mzp = 3.00e+02, gzp = 0.60\n",
      "19:44 madminer.core        INFO       benchmark_59: mzp = 3.00e+02, gzp = 0.80\n",
      "19:44 madminer.core        INFO       benchmark_60: mzp = 3.00e+02, gzp = 1.00\n",
      "19:44 madminer.core        INFO       benchmark_61: mzp = 3.00e+02, gzp = 1.20\n",
      "19:44 madminer.core        INFO       benchmark_62: mzp = 3.00e+02, gzp = 1.40\n",
      "19:44 madminer.core        INFO       benchmark_63: mzp = 3.00e+02, gzp = 1.60\n",
      "19:44 madminer.core        INFO       benchmark_64: mzp = 3.00e+02, gzp = 1.80\n",
      "19:44 madminer.core        INFO       benchmark_65: mzp = 3.00e+02, gzp = 2.00\n",
      "19:44 madminer.core        INFO       benchmark_66: mzp = 3.05e+02, gzp = 0.00e+00\n",
      "19:44 madminer.core        INFO       benchmark_67: mzp = 3.05e+02, gzp = 0.20\n",
      "19:44 madminer.core        INFO       benchmark_68: mzp = 3.05e+02, gzp = 0.40\n",
      "19:44 madminer.core        INFO       benchmark_69: mzp = 3.05e+02, gzp = 0.60\n",
      "19:44 madminer.core        INFO       benchmark_70: mzp = 3.05e+02, gzp = 0.80\n",
      "19:44 madminer.core        INFO       benchmark_71: mzp = 3.05e+02, gzp = 1.00\n",
      "19:44 madminer.core        INFO       benchmark_72: mzp = 3.05e+02, gzp = 1.20\n",
      "19:44 madminer.core        INFO       benchmark_73: mzp = 3.05e+02, gzp = 1.40\n",
      "19:44 madminer.core        INFO       benchmark_74: mzp = 3.05e+02, gzp = 1.60\n",
      "19:44 madminer.core        INFO       benchmark_75: mzp = 3.05e+02, gzp = 1.80\n",
      "19:44 madminer.core        INFO       benchmark_76: mzp = 3.05e+02, gzp = 2.00\n",
      "19:44 madminer.core        INFO       benchmark_77: mzp = 3.10e+02, gzp = 0.00e+00\n",
      "19:44 madminer.core        INFO       benchmark_78: mzp = 3.10e+02, gzp = 0.20\n",
      "19:44 madminer.core        INFO       benchmark_79: mzp = 3.10e+02, gzp = 0.40\n",
      "19:44 madminer.core        INFO       benchmark_80: mzp = 3.10e+02, gzp = 0.60\n",
      "19:44 madminer.core        INFO       benchmark_81: mzp = 3.10e+02, gzp = 0.80\n",
      "19:44 madminer.core        INFO       benchmark_82: mzp = 3.10e+02, gzp = 1.00\n",
      "19:44 madminer.core        INFO       benchmark_83: mzp = 3.10e+02, gzp = 1.20\n",
      "19:44 madminer.core        INFO       benchmark_84: mzp = 3.10e+02, gzp = 1.40\n",
      "19:44 madminer.core        INFO       benchmark_85: mzp = 3.10e+02, gzp = 1.60\n",
      "19:44 madminer.core        INFO       benchmark_86: mzp = 3.10e+02, gzp = 1.80\n",
      "19:44 madminer.core        INFO       benchmark_87: mzp = 3.10e+02, gzp = 2.00\n",
      "19:44 madminer.core        INFO       benchmark_88: mzp = 3.15e+02, gzp = 0.00e+00\n",
      "19:44 madminer.core        INFO       benchmark_89: mzp = 3.15e+02, gzp = 0.20\n",
      "19:44 madminer.core        INFO       benchmark_90: mzp = 3.15e+02, gzp = 0.40\n",
      "19:44 madminer.core        INFO       benchmark_91: mzp = 3.15e+02, gzp = 0.60\n",
      "19:44 madminer.core        INFO       benchmark_92: mzp = 3.15e+02, gzp = 0.80\n"
     ]
    },
    {
     "name": "stderr",
     "output_type": "stream",
     "text": [
      "19:44 madminer.core        INFO       benchmark_93: mzp = 3.15e+02, gzp = 1.00\n",
      "19:44 madminer.core        INFO       benchmark_94: mzp = 3.15e+02, gzp = 1.20\n",
      "19:44 madminer.core        INFO       benchmark_95: mzp = 3.15e+02, gzp = 1.40\n",
      "19:44 madminer.core        INFO       benchmark_96: mzp = 3.15e+02, gzp = 1.60\n",
      "19:44 madminer.core        INFO       benchmark_97: mzp = 3.15e+02, gzp = 1.80\n",
      "19:44 madminer.core        INFO       benchmark_98: mzp = 3.15e+02, gzp = 2.00\n",
      "19:44 madminer.core        INFO       benchmark_99: mzp = 3.20e+02, gzp = 0.00e+00\n",
      "19:44 madminer.core        INFO       benchmark_100: mzp = 3.20e+02, gzp = 0.20\n",
      "19:44 madminer.core        INFO       benchmark_101: mzp = 3.20e+02, gzp = 0.40\n",
      "19:44 madminer.core        INFO       benchmark_102: mzp = 3.20e+02, gzp = 0.60\n",
      "19:44 madminer.core        INFO       benchmark_103: mzp = 3.20e+02, gzp = 0.80\n",
      "19:44 madminer.core        INFO       benchmark_104: mzp = 3.20e+02, gzp = 1.00\n",
      "19:44 madminer.core        INFO       benchmark_105: mzp = 3.20e+02, gzp = 1.20\n",
      "19:44 madminer.core        INFO       benchmark_106: mzp = 3.20e+02, gzp = 1.40\n",
      "19:44 madminer.core        INFO       benchmark_107: mzp = 3.20e+02, gzp = 1.60\n",
      "19:44 madminer.core        INFO       benchmark_108: mzp = 3.20e+02, gzp = 1.80\n",
      "19:44 madminer.core        INFO       benchmark_109: mzp = 3.20e+02, gzp = 2.00\n",
      "19:44 madminer.core        INFO       benchmark_110: mzp = 3.25e+02, gzp = 0.00e+00\n",
      "19:44 madminer.core        INFO       benchmark_111: mzp = 3.25e+02, gzp = 0.20\n",
      "19:44 madminer.core        INFO       benchmark_112: mzp = 3.25e+02, gzp = 0.40\n",
      "19:44 madminer.core        INFO       benchmark_113: mzp = 3.25e+02, gzp = 0.60\n",
      "19:44 madminer.core        INFO       benchmark_114: mzp = 3.25e+02, gzp = 0.80\n",
      "19:44 madminer.core        INFO       benchmark_115: mzp = 3.25e+02, gzp = 1.00\n",
      "19:44 madminer.core        INFO       benchmark_116: mzp = 3.25e+02, gzp = 1.20\n",
      "19:44 madminer.core        INFO       benchmark_117: mzp = 3.25e+02, gzp = 1.40\n",
      "19:44 madminer.core        INFO       benchmark_118: mzp = 3.25e+02, gzp = 1.60\n",
      "19:44 madminer.core        INFO       benchmark_119: mzp = 3.25e+02, gzp = 1.80\n",
      "19:44 madminer.core        INFO       benchmark_120: mzp = 3.25e+02, gzp = 2.00\n",
      "19:44 madminer.core        INFO    Did not find morphing setup.\n",
      "19:44 madminer.core        INFO    Did not find systematics setup.\n",
      "19:44 madminer.sampling    INFO    Extracting training sample for ratio-based methods. Numerator hypothesis: 121 benchmarks, starting with [u'benchmark_0', u'benchmark_1', u'benchmark_2'], denominator hypothesis: benchmark_55\n",
      "19:44 root                 WARNING No morphing setup loaded. Cannot calculate joint score.\n",
      "19:44 madminer.sampling    INFO    Starting sampling serially\n",
      "19:44 madminer.sampling    INFO    Sampling from parameter point 6 / 121\n",
      "19:44 madminer.sampling    INFO    Sampling from parameter point 12 / 121\n",
      "19:44 madminer.sampling    INFO    Sampling from parameter point 18 / 121\n",
      "19:44 madminer.sampling    INFO    Sampling from parameter point 24 / 121\n",
      "19:44 madminer.sampling    INFO    Sampling from parameter point 30 / 121\n",
      "19:44 madminer.sampling    INFO    Sampling from parameter point 36 / 121\n",
      "19:44 madminer.sampling    INFO    Sampling from parameter point 42 / 121\n",
      "19:44 madminer.sampling    INFO    Sampling from parameter point 48 / 121\n",
      "19:45 madminer.sampling    INFO    Sampling from parameter point 54 / 121\n",
      "19:45 madminer.sampling    INFO    Sampling from parameter point 60 / 121\n",
      "19:45 madminer.sampling    INFO    Sampling from parameter point 66 / 121\n",
      "19:45 madminer.sampling    INFO    Sampling from parameter point 72 / 121\n",
      "19:45 madminer.sampling    INFO    Sampling from parameter point 78 / 121\n",
      "19:45 madminer.sampling    INFO    Sampling from parameter point 84 / 121\n",
      "19:45 madminer.sampling    INFO    Sampling from parameter point 90 / 121\n",
      "19:45 madminer.sampling    INFO    Sampling from parameter point 96 / 121\n",
      "19:45 madminer.sampling    INFO    Sampling from parameter point 102 / 121\n",
      "19:45 madminer.sampling    INFO    Sampling from parameter point 108 / 121\n",
      "19:46 madminer.sampling    INFO    Sampling from parameter point 114 / 121\n",
      "19:46 madminer.sampling    INFO    Sampling from parameter point 120 / 121\n",
      "19:46 madminer.sampling    INFO    Effective number of samples: mean 5517.486149998688, with individual thetas ranging from 40.820641239717496 to 28148.755408215915\n",
      "19:46 madminer.sampling    INFO    Starting sampling serially\n",
      "19:46 madminer.sampling    INFO    Sampling from parameter point 6 / 121\n",
      "19:46 madminer.sampling    INFO    Sampling from parameter point 12 / 121\n",
      "19:46 madminer.sampling    INFO    Sampling from parameter point 18 / 121\n",
      "19:46 madminer.sampling    INFO    Sampling from parameter point 24 / 121\n",
      "19:46 madminer.sampling    INFO    Sampling from parameter point 30 / 121\n",
      "19:46 madminer.sampling    INFO    Sampling from parameter point 36 / 121\n",
      "19:47 madminer.sampling    INFO    Sampling from parameter point 42 / 121\n",
      "19:47 madminer.sampling    INFO    Sampling from parameter point 48 / 121\n",
      "19:47 madminer.sampling    INFO    Sampling from parameter point 54 / 121\n",
      "19:47 madminer.sampling    INFO    Sampling from parameter point 60 / 121\n",
      "19:47 madminer.sampling    INFO    Sampling from parameter point 66 / 121\n",
      "19:47 madminer.sampling    INFO    Sampling from parameter point 72 / 121\n",
      "19:47 madminer.sampling    INFO    Sampling from parameter point 78 / 121\n",
      "19:47 madminer.sampling    INFO    Sampling from parameter point 84 / 121\n",
      "19:47 madminer.sampling    INFO    Sampling from parameter point 90 / 121\n",
      "19:47 madminer.sampling    INFO    Sampling from parameter point 96 / 121\n",
      "19:48 madminer.sampling    INFO    Sampling from parameter point 102 / 121\n",
      "19:48 madminer.sampling    INFO    Sampling from parameter point 108 / 121\n",
      "19:48 madminer.sampling    INFO    Sampling from parameter point 114 / 121\n",
      "19:48 madminer.sampling    INFO    Sampling from parameter point 120 / 121\n",
      "19:48 madminer.sampling    INFO    Effective number of samples: mean 27757.287974061444, with individual thetas ranging from 27757.287974061444 to 27757.287974061444\n",
      "19:48 madminer.sampling    INFO    Extracting evaluation sample. Sampling according to benchmark_55\n",
      "19:48 madminer.sampling    INFO    Starting sampling serially\n",
      "19:48 madminer.sampling    INFO    Sampling from parameter point 1 / 1\n",
      "19:48 madminer.sampling    INFO    Effective number of samples: 6910.222090527778\n"
     ]
    }
   ],
   "source": [
    "sampler = SampleAugmenter('meta/delphes_data_shuffled_g02.h5')\n",
    "miner = MadMiner()\n",
    "miner.load('meta/setup.h5')\n",
    "\n",
    "# 300, 0\n",
    "training_theta_ref = 'benchmark_55'\n",
    "# 285, .8\n",
    "testing_theta_true = 'benchmark_26'\n",
    "\n",
    "# Remove 0 coupling points from training\n",
    "\n",
    "#Train Sample\n",
    "x, theta0, theta1, y, r_xz, t_xz, n_effective = sampler.sample_train_ratio(\n",
    "    theta0=sampling.benchmarks(miner.benchmarks.keys()),\n",
    "    theta1=sampling.benchmark(training_theta_ref),\n",
    "    n_samples=2000000,\n",
    "    folder='./meta/samples',\n",
    "    filename='train_ratio',\n",
    ")\n",
    "\n",
    "# Calibration Sample\n",
    "_ = sampler.sample_test(\n",
    "    theta=sampling.benchmark(training_theta_ref),\n",
    "    n_samples=20000,\n",
    "    folder='./meta/samples',\n",
    "    filename='calibrate'\n",
    ")\n"
   ]
  },
  {
   "cell_type": "code",
   "execution_count": 107,
   "metadata": {},
   "outputs": [
    {
     "name": "stderr",
     "output_type": "stream",
     "text": [
      "00:45 madminer.sampling    INFO    Extracting evaluation sample. Sampling according to benchmark_26\n",
      "00:45 madminer.sampling    INFO    Starting sampling serially\n",
      "00:45 madminer.sampling    INFO    Sampling from parameter point 1 / 1\n",
      "00:45 madminer.sampling    INFO    Effective number of samples: 114.39752784824984\n"
     ]
    }
   ],
   "source": [
    "# Test Sample\n",
    "_ = sampler.sample_test(\n",
    "    theta=sampling.benchmark(testing_theta_true),\n",
    "    n_samples=10000,\n",
    "    folder='./meta/samples',\n",
    "    filename='test'\n",
    ")"
   ]
  },
  {
   "cell_type": "markdown",
   "metadata": {},
   "source": [
    "## Train Estimator"
   ]
  },
  {
   "cell_type": "code",
   "execution_count": 9,
   "metadata": {},
   "outputs": [
    {
     "name": "stderr",
     "output_type": "stream",
     "text": [
      "19:54 madminer.ml          INFO    Starting training\n",
      "19:54 madminer.ml          INFO      Method:                 rolr\n",
      "19:54 madminer.ml          INFO      Batch size:             5000\n",
      "19:54 madminer.ml          INFO      Optimizer:              adam\n",
      "19:54 madminer.ml          INFO      Epochs:                 10\n",
      "19:54 madminer.ml          INFO      Learning rate:          1e-07 initially, decaying to 0.0001\n",
      "19:54 madminer.ml          INFO      Validation split:       0.25\n",
      "19:54 madminer.ml          INFO      Early stopping:         True\n",
      "19:54 madminer.ml          INFO      Scale inputs:           True\n",
      "19:54 madminer.ml          INFO      Shuffle labels          False\n",
      "19:54 madminer.ml          INFO      Samples:                200000\n",
      "19:54 madminer.ml          INFO    Loading training data\n",
      "19:54 madminer.ml          INFO    Found 1999888 samples with 2 parameters and 8 observables\n",
      "19:54 madminer.ml          INFO    Only using 200000 of 1999888 training samples\n",
      "19:54 madminer.ml          INFO    Rescaling inputs\n",
      "19:54 madminer.ml          INFO    Creating model\n",
      "19:54 madminer.ml          INFO    Training model\n"
     ]
    },
    {
     "name": "stdout",
     "output_type": "stream",
     "text": [
      "[1.00000000e-07 2.23872114e-07 5.01187234e-07 1.12201845e-06\n",
      " 2.51188643e-06 5.62341325e-06 1.25892541e-05 2.81838293e-05\n",
      " 6.30957344e-05 1.41253754e-04 3.16227766e-04 7.07945784e-04\n",
      " 1.58489319e-03 3.54813389e-03 7.94328235e-03 1.77827941e-02\n",
      " 3.98107171e-02 8.91250938e-02 1.99526231e-01 4.46683592e-01\n",
      " 1.00000000e+00]\n"
     ]
    },
    {
     "ename": "KeyboardInterrupt",
     "evalue": "",
     "output_type": "error",
     "traceback": [
      "\u001b[0;31m---------------------------------------------------------------------------\u001b[0m",
      "\u001b[0;31mKeyboardInterrupt\u001b[0m                         Traceback (most recent call last)",
      "\u001b[0;32m<ipython-input-9-1411f617ab07>\u001b[0m in \u001b[0;36m<module>\u001b[0;34m()\u001b[0m\n\u001b[1;32m     20\u001b[0m         \u001b[0mlimit_samplesize\u001b[0m\u001b[0;34m=\u001b[0m\u001b[0;36m200000\u001b[0m\u001b[0;34m,\u001b[0m\u001b[0;34m\u001b[0m\u001b[0m\n\u001b[1;32m     21\u001b[0m         \u001b[0moptimizer\u001b[0m\u001b[0;34m=\u001b[0m\u001b[0;34m'adam'\u001b[0m\u001b[0;34m,\u001b[0m\u001b[0;34m\u001b[0m\u001b[0m\n\u001b[0;32m---> 22\u001b[0;31m         \u001b[0mn_epochs\u001b[0m\u001b[0;34m=\u001b[0m\u001b[0;36m10\u001b[0m\u001b[0;34m\u001b[0m\u001b[0m\n\u001b[0m\u001b[1;32m     23\u001b[0m     )\n\u001b[1;32m     24\u001b[0m     \u001b[0mvalidation_losses\u001b[0m \u001b[0;34m+=\u001b[0m \u001b[0;34m[\u001b[0m\u001b[0mval_loss\u001b[0m\u001b[0;34m.\u001b[0m\u001b[0mmean\u001b[0m\u001b[0;34m(\u001b[0m\u001b[0;34m)\u001b[0m\u001b[0;34m]\u001b[0m\u001b[0;34m\u001b[0m\u001b[0m\n",
      "\u001b[0;32m/home/kwl/Envs/tfenv/local/lib/python2.7/site-packages/madminer/ml.pyc\u001b[0m in \u001b[0;36mtrain\u001b[0;34m(self, method, x, y, theta, r_xz, t_xz, alpha, optimizer, n_epochs, batch_size, initial_lr, final_lr, nesterov_momentum, validation_split, early_stopping, scale_inputs, shuffle_labels, limit_samplesize, verbose)\u001b[0m\n\u001b[1;32m    446\u001b[0m             \u001b[0mvalidation_split\u001b[0m\u001b[0;34m=\u001b[0m\u001b[0mvalidation_split\u001b[0m\u001b[0;34m,\u001b[0m\u001b[0;34m\u001b[0m\u001b[0m\n\u001b[1;32m    447\u001b[0m             \u001b[0mearly_stopping\u001b[0m\u001b[0;34m=\u001b[0m\u001b[0mearly_stopping\u001b[0m\u001b[0;34m,\u001b[0m\u001b[0;34m\u001b[0m\u001b[0m\n\u001b[0;32m--> 448\u001b[0;31m             \u001b[0mverbose\u001b[0m\u001b[0;34m=\u001b[0m\u001b[0mverbose\u001b[0m\u001b[0;34m,\u001b[0m\u001b[0;34m\u001b[0m\u001b[0m\n\u001b[0m\u001b[1;32m    449\u001b[0m         )\n\u001b[1;32m    450\u001b[0m         \u001b[0;32mreturn\u001b[0m \u001b[0mresult\u001b[0m\u001b[0;34m\u001b[0m\u001b[0m\n",
      "\u001b[0;32m/home/kwl/Envs/tfenv/local/lib/python2.7/site-packages/madminer/utils/ml/trainer.pyc\u001b[0m in \u001b[0;36mtrain\u001b[0;34m(self, data, loss_functions, loss_weights, loss_labels, epochs, batch_size, optimizer, optimizer_kwargs, initial_lr, final_lr, validation_split, early_stopping, early_stopping_patience, clip_gradient, verbose)\u001b[0m\n\u001b[1;32m    107\u001b[0m             \u001b[0;32mtry\u001b[0m\u001b[0;34m:\u001b[0m\u001b[0;34m\u001b[0m\u001b[0m\n\u001b[1;32m    108\u001b[0m                 loss_train, loss_val, loss_contributions_train, loss_contributions_val = self.epoch(\n\u001b[0;32m--> 109\u001b[0;31m                     \u001b[0mi_epoch\u001b[0m\u001b[0;34m,\u001b[0m \u001b[0mdata_labels\u001b[0m\u001b[0;34m,\u001b[0m \u001b[0mtrain_loader\u001b[0m\u001b[0;34m,\u001b[0m \u001b[0mval_loader\u001b[0m\u001b[0;34m,\u001b[0m \u001b[0mopt\u001b[0m\u001b[0;34m,\u001b[0m \u001b[0mloss_functions\u001b[0m\u001b[0;34m,\u001b[0m \u001b[0mloss_weights\u001b[0m\u001b[0;34m,\u001b[0m \u001b[0mclip_gradient\u001b[0m\u001b[0;34m\u001b[0m\u001b[0m\n\u001b[0m\u001b[1;32m    110\u001b[0m                 )\n\u001b[1;32m    111\u001b[0m                 \u001b[0mlosses_train\u001b[0m\u001b[0;34m.\u001b[0m\u001b[0mappend\u001b[0m\u001b[0;34m(\u001b[0m\u001b[0mloss_train\u001b[0m\u001b[0;34m)\u001b[0m\u001b[0;34m\u001b[0m\u001b[0m\n",
      "\u001b[0;32m/home/kwl/Envs/tfenv/local/lib/python2.7/site-packages/madminer/utils/ml/trainer.pyc\u001b[0m in \u001b[0;36mepoch\u001b[0;34m(self, i_epoch, data_labels, train_loader, val_loader, optimizer, loss_functions, loss_weights, clip_gradient)\u001b[0m\n\u001b[1;32m    220\u001b[0m         \u001b[0mloss_train\u001b[0m \u001b[0;34m=\u001b[0m \u001b[0;36m0.0\u001b[0m\u001b[0;34m\u001b[0m\u001b[0m\n\u001b[1;32m    221\u001b[0m \u001b[0;34m\u001b[0m\u001b[0m\n\u001b[0;32m--> 222\u001b[0;31m         \u001b[0;32mfor\u001b[0m \u001b[0mi_batch\u001b[0m\u001b[0;34m,\u001b[0m \u001b[0mbatch_data\u001b[0m \u001b[0;32min\u001b[0m \u001b[0menumerate\u001b[0m\u001b[0;34m(\u001b[0m\u001b[0mtrain_loader\u001b[0m\u001b[0;34m)\u001b[0m\u001b[0;34m:\u001b[0m\u001b[0;34m\u001b[0m\u001b[0m\n\u001b[0m\u001b[1;32m    223\u001b[0m             \u001b[0mbatch_data\u001b[0m \u001b[0;34m=\u001b[0m \u001b[0mOrderedDict\u001b[0m\u001b[0;34m(\u001b[0m\u001b[0mlist\u001b[0m\u001b[0;34m(\u001b[0m\u001b[0mzip\u001b[0m\u001b[0;34m(\u001b[0m\u001b[0mdata_labels\u001b[0m\u001b[0;34m,\u001b[0m \u001b[0mbatch_data\u001b[0m\u001b[0;34m)\u001b[0m\u001b[0;34m)\u001b[0m\u001b[0;34m)\u001b[0m\u001b[0;34m\u001b[0m\u001b[0m\n\u001b[1;32m    224\u001b[0m             batch_loss, batch_loss_contributions = self.batch_train(\n",
      "\u001b[0;32m/home/kwl/Envs/tfenv/local/lib/python2.7/site-packages/torch/utils/data/dataloader.pyc\u001b[0m in \u001b[0;36m__next__\u001b[0;34m(self)\u001b[0m\n\u001b[1;32m    557\u001b[0m     \u001b[0;32mdef\u001b[0m \u001b[0m__next__\u001b[0m\u001b[0;34m(\u001b[0m\u001b[0mself\u001b[0m\u001b[0;34m)\u001b[0m\u001b[0;34m:\u001b[0m\u001b[0;34m\u001b[0m\u001b[0m\n\u001b[1;32m    558\u001b[0m         \u001b[0;32mif\u001b[0m \u001b[0mself\u001b[0m\u001b[0;34m.\u001b[0m\u001b[0mnum_workers\u001b[0m \u001b[0;34m==\u001b[0m \u001b[0;36m0\u001b[0m\u001b[0;34m:\u001b[0m  \u001b[0;31m# same-process loading\u001b[0m\u001b[0;34m\u001b[0m\u001b[0m\n\u001b[0;32m--> 559\u001b[0;31m             \u001b[0mindices\u001b[0m \u001b[0;34m=\u001b[0m \u001b[0mnext\u001b[0m\u001b[0;34m(\u001b[0m\u001b[0mself\u001b[0m\u001b[0;34m.\u001b[0m\u001b[0msample_iter\u001b[0m\u001b[0;34m)\u001b[0m  \u001b[0;31m# may raise StopIteration\u001b[0m\u001b[0;34m\u001b[0m\u001b[0m\n\u001b[0m\u001b[1;32m    560\u001b[0m             \u001b[0mbatch\u001b[0m \u001b[0;34m=\u001b[0m \u001b[0mself\u001b[0m\u001b[0;34m.\u001b[0m\u001b[0mcollate_fn\u001b[0m\u001b[0;34m(\u001b[0m\u001b[0;34m[\u001b[0m\u001b[0mself\u001b[0m\u001b[0;34m.\u001b[0m\u001b[0mdataset\u001b[0m\u001b[0;34m[\u001b[0m\u001b[0mi\u001b[0m\u001b[0;34m]\u001b[0m \u001b[0;32mfor\u001b[0m \u001b[0mi\u001b[0m \u001b[0;32min\u001b[0m \u001b[0mindices\u001b[0m\u001b[0;34m]\u001b[0m\u001b[0;34m)\u001b[0m\u001b[0;34m\u001b[0m\u001b[0m\n\u001b[1;32m    561\u001b[0m             \u001b[0;32mif\u001b[0m \u001b[0mself\u001b[0m\u001b[0;34m.\u001b[0m\u001b[0mpin_memory\u001b[0m\u001b[0;34m:\u001b[0m\u001b[0;34m\u001b[0m\u001b[0m\n",
      "\u001b[0;32m/home/kwl/Envs/tfenv/local/lib/python2.7/site-packages/torch/utils/data/sampler.pyc\u001b[0m in \u001b[0;36m__iter__\u001b[0;34m(self)\u001b[0m\n\u001b[1;32m    170\u001b[0m     \u001b[0;32mdef\u001b[0m \u001b[0m__iter__\u001b[0m\u001b[0;34m(\u001b[0m\u001b[0mself\u001b[0m\u001b[0;34m)\u001b[0m\u001b[0;34m:\u001b[0m\u001b[0;34m\u001b[0m\u001b[0m\n\u001b[1;32m    171\u001b[0m         \u001b[0mbatch\u001b[0m \u001b[0;34m=\u001b[0m \u001b[0;34m[\u001b[0m\u001b[0;34m]\u001b[0m\u001b[0;34m\u001b[0m\u001b[0m\n\u001b[0;32m--> 172\u001b[0;31m         \u001b[0;32mfor\u001b[0m \u001b[0midx\u001b[0m \u001b[0;32min\u001b[0m \u001b[0mself\u001b[0m\u001b[0;34m.\u001b[0m\u001b[0msampler\u001b[0m\u001b[0;34m:\u001b[0m\u001b[0;34m\u001b[0m\u001b[0m\n\u001b[0m\u001b[1;32m    173\u001b[0m             \u001b[0mbatch\u001b[0m\u001b[0;34m.\u001b[0m\u001b[0mappend\u001b[0m\u001b[0;34m(\u001b[0m\u001b[0midx\u001b[0m\u001b[0;34m)\u001b[0m\u001b[0;34m\u001b[0m\u001b[0m\n\u001b[1;32m    174\u001b[0m             \u001b[0;32mif\u001b[0m \u001b[0mlen\u001b[0m\u001b[0;34m(\u001b[0m\u001b[0mbatch\u001b[0m\u001b[0;34m)\u001b[0m \u001b[0;34m==\u001b[0m \u001b[0mself\u001b[0m\u001b[0;34m.\u001b[0m\u001b[0mbatch_size\u001b[0m\u001b[0;34m:\u001b[0m\u001b[0;34m\u001b[0m\u001b[0m\n",
      "\u001b[0;32m/home/kwl/Envs/tfenv/local/lib/python2.7/site-packages/torch/utils/data/sampler.pyc\u001b[0m in \u001b[0;36m<genexpr>\u001b[0;34m((i,))\u001b[0m\n\u001b[1;32m     94\u001b[0m \u001b[0;34m\u001b[0m\u001b[0m\n\u001b[1;32m     95\u001b[0m     \u001b[0;32mdef\u001b[0m \u001b[0m__iter__\u001b[0m\u001b[0;34m(\u001b[0m\u001b[0mself\u001b[0m\u001b[0;34m)\u001b[0m\u001b[0;34m:\u001b[0m\u001b[0;34m\u001b[0m\u001b[0m\n\u001b[0;32m---> 96\u001b[0;31m         \u001b[0;32mreturn\u001b[0m \u001b[0;34m(\u001b[0m\u001b[0mself\u001b[0m\u001b[0;34m.\u001b[0m\u001b[0mindices\u001b[0m\u001b[0;34m[\u001b[0m\u001b[0mi\u001b[0m\u001b[0;34m]\u001b[0m \u001b[0;32mfor\u001b[0m \u001b[0mi\u001b[0m \u001b[0;32min\u001b[0m \u001b[0mtorch\u001b[0m\u001b[0;34m.\u001b[0m\u001b[0mrandperm\u001b[0m\u001b[0;34m(\u001b[0m\u001b[0mlen\u001b[0m\u001b[0;34m(\u001b[0m\u001b[0mself\u001b[0m\u001b[0;34m.\u001b[0m\u001b[0mindices\u001b[0m\u001b[0;34m)\u001b[0m\u001b[0;34m)\u001b[0m\u001b[0;34m)\u001b[0m\u001b[0;34m\u001b[0m\u001b[0m\n\u001b[0m\u001b[1;32m     97\u001b[0m \u001b[0;34m\u001b[0m\u001b[0m\n\u001b[1;32m     98\u001b[0m     \u001b[0;32mdef\u001b[0m \u001b[0m__len__\u001b[0m\u001b[0;34m(\u001b[0m\u001b[0mself\u001b[0m\u001b[0;34m)\u001b[0m\u001b[0;34m:\u001b[0m\u001b[0;34m\u001b[0m\u001b[0m\n",
      "\u001b[0;31mKeyboardInterrupt\u001b[0m: "
     ]
    }
   ],
   "source": [
    "estimator = ParameterizedRatioEstimator(\n",
    "    n_hidden=(10,10,10,10,10),\n",
    "    activation=\"relu\",\n",
    ")\n",
    "\n",
    "learning_rates = np.logspace(-7,0,21)\n",
    "validation_losses = []\n",
    "\n",
    "print(learning_rates)\n",
    "\n",
    "for alpha in learning_rates:\n",
    "    train_loss, val_loss = estimator.train(\n",
    "        method='rolr',\n",
    "        theta='meta/samples/theta0_train_ratio.npy',\n",
    "        x='meta/samples/x_train_ratio.npy',\n",
    "        y='meta/samples/y_train_ratio.npy',\n",
    "        r_xz='meta/samples/r_xz_train_ratio.npy',\n",
    "        initial_lr = alpha,\n",
    "        batch_size = 5000,\n",
    "        limit_samplesize=200000,\n",
    "        optimizer='adam',\n",
    "        n_epochs=10\n",
    "    )\n",
    "    validation_losses += [val_loss.mean()]\n",
    "    \n",
    "plt.plot(learning_rates, validation_losses, 'k-')\n",
    "plt.xscale('log')\n",
    "plt.show()\n",
    "estimator.save('models/rolr')"
   ]
  },
  {
   "cell_type": "code",
   "execution_count": 18,
   "metadata": {},
   "outputs": [
    {
     "name": "stderr",
     "output_type": "stream",
     "text": [
      "00:25 madminer.ml          INFO    Starting training\n",
      "00:25 madminer.ml          INFO      Method:                 rolr\n",
      "00:25 madminer.ml          INFO      Batch size:             1000\n",
      "00:25 madminer.ml          INFO      Optimizer:              adam\n",
      "00:25 madminer.ml          INFO      Epochs:                 50\n",
      "00:25 madminer.ml          INFO      Learning rate:          0.002 initially, decaying to 0.0005\n",
      "00:25 madminer.ml          INFO      Validation split:       0.25\n",
      "00:25 madminer.ml          INFO      Early stopping:         True\n",
      "00:25 madminer.ml          INFO      Scale inputs:           True\n",
      "00:25 madminer.ml          INFO      Shuffle labels          False\n",
      "00:25 madminer.ml          INFO      Samples:                200000\n",
      "00:25 madminer.ml          INFO    Loading training data\n",
      "00:25 madminer.ml          INFO    Found 1999888 samples with 2 parameters and 8 observables\n",
      "00:25 madminer.ml          INFO    Only using 200000 of 1999888 training samples\n",
      "00:25 madminer.ml          INFO    Rescaling inputs\n",
      "00:25 madminer.ml          INFO    Creating model\n",
      "00:25 madminer.ml          INFO    Training model\n",
      "00:28 madminer.utils.ml.tr INFO    Epoch   3: train loss 469.97615 (mse_r: 469.976)\n",
      "00:28 madminer.utils.ml.tr INFO               val. loss  20.21953 (mse_r: 20.220)\n",
      "00:31 madminer.utils.ml.tr INFO    Epoch   6: train loss 469.83537 (mse_r: 469.835)\n",
      "00:31 madminer.utils.ml.tr INFO               val. loss  20.21468 (mse_r: 20.215)\n",
      "00:34 madminer.utils.ml.tr INFO    Epoch   9: train loss 469.44854 (mse_r: 469.449)\n",
      "00:34 madminer.utils.ml.tr INFO               val. loss  19.92504 (mse_r: 19.925)\n",
      "00:36 madminer.utils.ml.tr INFO    Epoch  12: train loss 469.51717 (mse_r: 469.517)\n",
      "00:36 madminer.utils.ml.tr INFO               val. loss  19.97766 (mse_r: 19.978)\n",
      "00:39 madminer.utils.ml.tr INFO    Epoch  15: train loss 469.34896 (mse_r: 469.349)\n",
      "00:39 madminer.utils.ml.tr INFO               val. loss  19.89743 (mse_r: 19.897)\n",
      "00:42 madminer.utils.ml.tr INFO    Epoch  18: train loss 469.35053 (mse_r: 469.351)\n",
      "00:42 madminer.utils.ml.tr INFO               val. loss  19.87108 (mse_r: 19.871)\n",
      "00:44 madminer.utils.ml.tr INFO    Epoch  21: train loss 469.51566 (mse_r: 469.516)\n",
      "00:44 madminer.utils.ml.tr INFO               val. loss  19.85278 (mse_r: 19.853)\n",
      "00:47 madminer.utils.ml.tr INFO    Epoch  24: train loss 469.45088 (mse_r: 469.451)\n",
      "00:47 madminer.utils.ml.tr INFO               val. loss  19.90202 (mse_r: 19.902)\n",
      "00:50 madminer.utils.ml.tr INFO    Epoch  27: train loss 469.38015 (mse_r: 469.380)\n",
      "00:50 madminer.utils.ml.tr INFO               val. loss  19.88693 (mse_r: 19.887)\n",
      "00:53 madminer.utils.ml.tr INFO    Epoch  30: train loss 469.28920 (mse_r: 469.289)\n",
      "00:53 madminer.utils.ml.tr INFO               val. loss  19.93138 (mse_r: 19.931)\n",
      "00:55 madminer.utils.ml.tr INFO    Epoch  33: train loss 469.27651 (mse_r: 469.277)\n",
      "00:55 madminer.utils.ml.tr INFO               val. loss  19.87211 (mse_r: 19.872)\n",
      "00:58 madminer.utils.ml.tr INFO    Epoch  36: train loss 469.26322 (mse_r: 469.263)\n",
      "00:58 madminer.utils.ml.tr INFO               val. loss  19.94730 (mse_r: 19.947)\n",
      "01:01 madminer.utils.ml.tr INFO    Epoch  39: train loss 469.35971 (mse_r: 469.360)\n",
      "01:01 madminer.utils.ml.tr INFO               val. loss  19.89181 (mse_r: 19.892)\n",
      "01:04 madminer.utils.ml.tr INFO    Epoch  42: train loss 469.29985 (mse_r: 469.300)\n",
      "01:04 madminer.utils.ml.tr INFO               val. loss  19.78911 (mse_r: 19.789)\n",
      "01:06 madminer.utils.ml.tr INFO    Epoch  45: train loss 469.24743 (mse_r: 469.247)\n",
      "01:06 madminer.utils.ml.tr INFO               val. loss  19.83035 (mse_r: 19.830)\n",
      "01:09 madminer.utils.ml.tr INFO    Epoch  48: train loss 469.10039 (mse_r: 469.100)\n",
      "01:09 madminer.utils.ml.tr INFO               val. loss  19.87873 (mse_r: 19.879)\n",
      "01:11 madminer.utils.ml.tr INFO    Early stopping after epoch 46, with loss 19.73912 compared to final loss 19.79906\n"
     ]
    }
   ],
   "source": [
    "estimator = ParameterizedRatioEstimator(\n",
    "    n_hidden=(60,60,60),\n",
    "    activation=\"relu\",\n",
    ")\n",
    "\n",
    "train_loss, val_loss = estimator.train(\n",
    "    method='rolr',\n",
    "    theta='meta/samples/theta0_train_ratio.npy',\n",
    "    x='meta/samples/x_train_ratio.npy',\n",
    "    y='meta/samples/y_train_ratio.npy',\n",
    "    r_xz='meta/samples/r_xz_train_ratio.npy',\n",
    "    initial_lr = .002,\n",
    "    final_lr = .0005,\n",
    "    batch_size = 1000,\n",
    "    limit_samplesize=200000,\n",
    "    optimizer='adam',\n",
    "    n_epochs=50\n",
    ")\n",
    "    \n",
    "estimator.save('models/rolr')"
   ]
  },
  {
   "cell_type": "markdown",
   "metadata": {},
   "source": [
    "## Evaluate Likelihood Ratio Estimator"
   ]
  },
  {
   "cell_type": "markdown",
   "metadata": {},
   "source": [
    "Define grid that neural network will be evaluated on (does NOT need to be made of only benchmark points - the NN can interpolate in theta space now)."
   ]
  },
  {
   "cell_type": "code",
   "execution_count": 21,
   "metadata": {},
   "outputs": [],
   "source": [
    "grid_res = 26\n",
    "asimov_n = 500\n",
    "\n",
    "theta_m = np.linspace(275.,325.,grid_res)\n",
    "theta_g = np.linspace(0.,2.,grid_res)\n",
    "theta0_new, theta1_new = np.meshgrid(theta_m, theta_g)\n",
    "theta_grid = np.vstack((theta0_new.flatten(), theta1_new.flatten())).T\n",
    "np.save('meta/samples/theta_grid.npy', theta_grid)\n",
    "\n",
    "theta_denom = np.array([[300.,0.]])\n",
    "np.save('meta/samples/theta_ref.npy', theta_denom)"
   ]
  },
  {
   "cell_type": "markdown",
   "metadata": {},
   "source": [
    "Evaluate the log likelihood ratio of the test set at each point in the grid using the newly trained neural network."
   ]
  },
  {
   "cell_type": "code",
   "execution_count": 22,
   "metadata": {},
   "outputs": [],
   "source": [
    "estimator.load('models/rolr')\n",
    "\n",
    "log_r_hat, _ = estimator.evaluate_log_likelihood_ratio(\n",
    "    theta='meta/samples/theta_grid.npy',\n",
    "    x='meta/samples/x_test.npy',\n",
    "    evaluate_score=False\n",
    ")"
   ]
  },
  {
   "cell_type": "markdown",
   "metadata": {},
   "source": [
    "Evaluate the log likelihood ratio of a dataset drawn from the reference theory to be used for expectation calibration (see guide to constraining EFTs with machine learning, equations 43 and 44)."
   ]
  },
  {
   "cell_type": "code",
   "execution_count": 23,
   "metadata": {},
   "outputs": [],
   "source": [
    "# Calibration\n",
    "log_r_hat_calibrate, _ = estimator.evaluate_log_likelihood_ratio(\n",
    "    theta='meta/samples/theta_grid.npy',\n",
    "    x='meta/samples/x_calibrate.npy',\n",
    "    evaluate_score=False\n",
    ")\n",
    "\n",
    "calibration_diff = np.log(np.mean(np.exp(log_r_hat_calibrate), axis=1))\n",
    "calibrated_llr = (log_r_hat.T - calibration_diff).T"
   ]
  },
  {
   "cell_type": "markdown",
   "metadata": {},
   "source": [
    "Plot results:\n",
    "\n",
    "1: Calibrated p values over $\\theta$ space\n",
    "\n",
    "2: Uncalibrated p values over $\\theta$ space\n",
    "\n",
    "3: Expected Calibrated LLR over $\\theta$ space."
   ]
  },
  {
   "cell_type": "code",
   "execution_count": 24,
   "metadata": {},
   "outputs": [
    {
     "name": "stdout",
     "output_type": "stream",
     "text": [
      "[325.     0.56]\n",
      "OrderedDict([(u'mzp', 285.0), (u'gzp', 0.8)])\n"
     ]
    },
    {
     "data": {
      "image/png": "[encoded data removed]",
      "text/plain": [
       "<matplotlib.figure.Figure at 0x7fe0a3a44390>"
      ]
     },
     "metadata": {
      "needs_background": "light"
     },
     "output_type": "display_data"
    },
    {
     "data": {
      "image/png": "[encoded data removed]",
      "text/plain": [
       "<matplotlib.figure.Figure at 0x7fe0a3a5e450>"
      ]
     },
     "metadata": {
      "needs_background": "light"
     },
     "output_type": "display_data"
    },
    {
     "data": {
      "image/png": "[encoded data removed]",
      "text/plain": [
       "<matplotlib.figure.Figure at 0x7fe0c45af9d0>"
      ]
     },
     "metadata": {
      "needs_background": "light"
     },
     "output_type": "display_data"
    }
   ],
   "source": [
    "bin_size_m = theta_m[1] - theta_m[0]\n",
    "edges_m = np.linspace(theta_m[0] - bin_size_m/2, theta_m[-1] + bin_size_m/2, len(theta_m)+1)\n",
    "bin_size_g = theta_g[1] - theta_g[0]\n",
    "edges_g = np.linspace(theta_g[0] - bin_size_g/2, theta_g[-1] + bin_size_g/2, len(theta_g)+1)\n",
    "\n",
    "fig = plt.figure(figsize=(20,10))\n",
    "ax = plt.gca()\n",
    "\n",
    "\n",
    "expected_llr = np.mean(calibrated_llr ,axis=1)\n",
    "best_fit = theta_grid[np.argmax(expected_llr)]\n",
    "\n",
    "print(best_fit)\n",
    "print(miner.benchmarks[testing_theta_true])\n",
    "\n",
    "log_r_hat_wrt_mle = calibrated_llr - calibrated_llr[np.argmax(expected_llr)]\n",
    "pvals = np.exp(asimov_n * np.mean(log_r_hat_wrt_mle, axis=1))\n",
    "\n",
    "cmin, cmax = np.min(pvals), np.max(pvals)\n",
    "\n",
    "pcm = ax.pcolormesh(edges_m, edges_g, pvals.reshape((grid_res,grid_res)),\n",
    "                    norm=matplotlib.colors.Normalize(vmin=cmin, vmax=cmax),\n",
    "                    cmap='viridis_r')\n",
    "cbar = fig.colorbar(pcm, ax=ax, extend='both')\n",
    "\n",
    "plt.scatter(best_fit[0], best_fit[1], s=80., color='black', marker='.')\n",
    "\n",
    "plt.xlabel(r'$m$')\n",
    "plt.ylabel(r'$g$')\n",
    "cbar.set_label(r'$p$')\n",
    "\n",
    "plt.tight_layout()\n",
    "plt.show()\n",
    "\n",
    "fig = plt.figure(figsize=(20,10))\n",
    "ax = plt.gca()\n",
    "\n",
    "expected_llr = np.mean(log_r_hat ,axis=1)\n",
    "best_fit = theta_grid[np.argmax(expected_llr)]\n",
    "\n",
    "log_r_hat_wrt_mle = log_r_hat - log_r_hat[np.argmax(expected_llr)]\n",
    "pvals = np.exp(asimov_n * np.mean(log_r_hat_wrt_mle, axis=1))\n",
    "\n",
    "cmin, cmax = np.min(pvals), np.max(pvals)\n",
    "\n",
    "pcm = ax.pcolormesh(edges_m, edges_g, pvals.reshape((grid_res,grid_res)),\n",
    "                    norm=matplotlib.colors.Normalize(vmin=cmin, vmax=cmax),\n",
    "                    cmap='viridis_r')\n",
    "cbar = fig.colorbar(pcm, ax=ax, extend='both')\n",
    "\n",
    "plt.scatter(best_fit[0], best_fit[1], s=80., color='black', marker='.')\n",
    "\n",
    "plt.xlabel(r'$m$')\n",
    "plt.ylabel(r'$g$')\n",
    "cbar.set_label(r'$p$')\n",
    "\n",
    "plt.tight_layout()\n",
    "plt.show()\n",
    "\n",
    "\n",
    "fig = plt.figure(figsize=(20,10))\n",
    "ax = plt.gca()\n",
    "\n",
    "\n",
    "expected_llr = np.mean(calibrated_llr ,axis=1)\n",
    "best_fit = theta_grid[np.argmax(expected_llr)]\n",
    "\n",
    "cmin, cmax = np.min(expected_llr), np.max(expected_llr)\n",
    "\n",
    "pcm = ax.pcolormesh(edges_m, edges_g, expected_llr.reshape((grid_res,grid_res)),\n",
    "                    norm=matplotlib.colors.Normalize(vmin=cmin, vmax=cmax),\n",
    "                    cmap='viridis_r')\n",
    "cbar = fig.colorbar(pcm, ax=ax, extend='both')\n",
    "\n",
    "plt.scatter(best_fit[0], best_fit[1], s=80., color='black', marker='.')\n",
    "\n",
    "plt.xlabel(r'$m$')\n",
    "plt.ylabel(r'$g$')\n",
    "cbar.set_label(r'$p$')\n",
    "\n",
    "plt.tight_layout()\n",
    "plt.show()"
   ]
  },
  {
   "cell_type": "code",
   "execution_count": 30,
   "metadata": {},
   "outputs": [
    {
     "data": {
      "image/png": "[encoded data removed]",
      "text/plain": [
       "<matplotlib.figure.Figure at 0x7fe050255a50>"
      ]
     },
     "metadata": {
      "needs_background": "light"
     },
     "output_type": "display_data"
    },
    {
     "name": "stdout",
     "output_type": "stream",
     "text": [
      "[      8      20      23 ... 1999874 1999877 1999881]\n",
      "[ 4.00307894  2.84056282 30.33362007  5.7988553  -0.75529575  0.10511542\n",
      " 25.7375946   6.42122602]\n",
      "[0.97149849]\n"
     ]
    },
    {
     "data": {
      "image/png": "[encoded data removed]",
      "text/plain": [
       "<matplotlib.figure.Figure at 0x7fe0a57d3f10>"
      ]
     },
     "metadata": {
      "needs_background": "light"
     },
     "output_type": "display_data"
    },
    {
     "data": {
      "image/png": "[encoded data removed]",
      "text/plain": [
       "<matplotlib.figure.Figure at 0x7fe0a1fc5cd0>"
      ]
     },
     "metadata": {
      "needs_background": "light"
     },
     "output_type": "display_data"
    },
    {
     "name": "stdout",
     "output_type": "stream",
     "text": [
      "-1.7323881 3.3196251\n",
      "-3.3099783971118586 10.440959633152376\n"
     ]
    }
   ],
   "source": [
    "plt.hist(np.log(r_xz), bins=30)\n",
    "plt.show()\n",
    "\n",
    "print(np.where(r_xz > np.exp(4))[0])\n",
    "print(x[12])\n",
    "print(r_xz[12])\n",
    "\n",
    "def calc_inv_mass(all_x):\n",
    "    eta0 = all_x[:,0]\n",
    "    phi0 = all_x[:,1]\n",
    "    pt0  = all_x[:,2]\n",
    "    m0   = all_x[:,3]\n",
    "    eta1 = all_x[:,4]\n",
    "    phi1 = all_x[:,5]\n",
    "    pt1  = all_x[:,6]\n",
    "    m1   = all_x[:,7]\n",
    "    return  np.sqrt(2 * np.abs(pt0) * np.abs(pt1) * (np.cosh(eta0 - eta1) - np.cos(phi0-phi1)))\n",
    "\n",
    "mz300gzp1 = np.where(np.equal(theta0[:,0], 300.) + np.equal(theta0[:,1],1.))[0]\n",
    "plt.hist(calc_inv_mass(x[mz300gzp1]), bins=30)\n",
    "plt.show()\n",
    "\n",
    "plt.hist(calibrated_llr[np.where(theta_grid==[285., .8])], bins=30)\n",
    "plt.show()\n",
    "\n",
    "print(calibrated_llr.min(), calibrated_llr.max())\n",
    "print(np.log(r_xz.min()), np.log(r_xz.max()))"
   ]
  },
  {
   "cell_type": "code",
   "execution_count": null,
   "metadata": {},
   "outputs": [],
   "source": []
  }
 ],
 "metadata": {
  "kernelspec": {
   "display_name": "tfenv",
   "language": "python",
   "name": "tfenv"
  },
  "language_info": {
   "codemirror_mode": {
    "name": "ipython",
    "version": 2
   },
   "file_extension": ".py",
   "mimetype": "text/x-python",
   "name": "python",
   "nbconvert_exporter": "python",
   "pygments_lexer": "ipython2",
   "version": "2.7.15rc1"
  }
 },
 "nbformat": 4,
 "nbformat_minor": 2
}
